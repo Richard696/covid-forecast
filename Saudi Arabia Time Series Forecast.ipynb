{
 "cells": [
  {
   "cell_type": "code",
   "execution_count": 2,
   "metadata": {},
   "outputs": [],
   "source": [
    "# import library\n",
    "\n",
    "import pandas as pd\n",
    "import numpy as np \n",
    "import matplotlib.pyplot as plt \n",
    "import seaborn as sns\n",
    "import plotly.graph_objects as go\n",
    "from fbprophet import Prophet\n",
    "import pycountry\n",
    "import plotly.express as px\n",
    "from collections import namedtuple"
   ]
  },
  {
   "cell_type": "code",
   "execution_count": 3,
   "metadata": {},
   "outputs": [],
   "source": [
    "# read data\n",
    "\n",
    "df = pd.read_csv('covid_19_data.csv',parse_dates=['Last Update'])\n",
    "df.rename(columns={'ObservationDate':'Date', 'Country/Region':'Country'}, inplace=True)\n",
    "\n",
    "df_confirmed = pd.read_csv(\"time_series_covid_19_confirmed.csv\")\n",
    "df_recovered = pd.read_csv(\"time_series_covid_19_recovered.csv\")\n",
    "df_deaths = pd.read_csv(\"time_series_covid_19_deaths.csv\")\n",
    "\n",
    "df_confirmed.rename(columns={'Country/Region':'Country'}, inplace=True)\n",
    "df_recovered.rename(columns={'Country/Region':'Country'}, inplace=True)\n",
    "df_deaths.rename(columns={'Country/Region':'Country'}, inplace=True)"
   ]
  },
  {
   "cell_type": "code",
   "execution_count": 21,
   "metadata": {},
   "outputs": [
    {
     "data": {
      "text/plain": [
       "array(['Mainland China', 'Hong Kong', 'Macau', 'Taiwan', 'US', 'Japan',\n",
       "       'Thailand', 'South Korea', 'Singapore', 'Philippines', 'Malaysia',\n",
       "       'Vietnam', 'Australia', 'Mexico', 'Brazil', 'Colombia', 'France',\n",
       "       'Nepal', 'Canada', 'Cambodia', 'Sri Lanka', 'Ivory Coast',\n",
       "       'Germany', 'Finland', 'United Arab Emirates', 'India', 'Italy',\n",
       "       'UK', 'Russia', 'Sweden', 'Spain', 'Belgium', 'Others', 'Egypt',\n",
       "       'Iran', 'Israel', 'Lebanon', 'Iraq', 'Oman', 'Afghanistan',\n",
       "       'Bahrain', 'Kuwait', 'Austria', 'Algeria', 'Croatia',\n",
       "       'Switzerland', 'Pakistan', 'Georgia', 'Greece', 'North Macedonia',\n",
       "       'Norway', 'Romania', 'Denmark', 'Estonia', 'Netherlands',\n",
       "       'San Marino', ' Azerbaijan', 'Belarus', 'Iceland', 'Lithuania',\n",
       "       'New Zealand', 'Nigeria', 'North Ireland', 'Ireland', 'Luxembourg',\n",
       "       'Monaco', 'Qatar', 'Ecuador', 'Azerbaijan', 'Czech Republic',\n",
       "       'Armenia', 'Dominican Republic', 'Indonesia', 'Portugal',\n",
       "       'Andorra', 'Latvia', 'Morocco', 'Saudi Arabia', 'Senegal',\n",
       "       'Argentina', 'Chile', 'Jordan', 'Ukraine', 'Saint Barthelemy',\n",
       "       'Hungary', 'Faroe Islands', 'Gibraltar', 'Liechtenstein', 'Poland',\n",
       "       'Tunisia', 'Palestine', 'Bosnia and Herzegovina', 'Slovenia',\n",
       "       'South Africa', 'Bhutan', 'Cameroon', 'Costa Rica', 'Peru',\n",
       "       'Serbia', 'Slovakia', 'Togo', 'Vatican City', 'French Guiana',\n",
       "       'Malta', 'Martinique', 'Republic of Ireland', 'Bulgaria',\n",
       "       'Maldives', 'Bangladesh', 'Moldova', 'Paraguay', 'Albania',\n",
       "       'Cyprus', 'St. Martin', 'Brunei', 'occupied Palestinian territory',\n",
       "       \"('St. Martin',)\", 'Burkina Faso', 'Channel Islands', 'Holy See',\n",
       "       'Mongolia', 'Panama', 'Bolivia', 'Honduras', 'Congo (Kinshasa)',\n",
       "       'Jamaica', 'Reunion', 'Turkey', 'Cuba', 'Guyana', 'Kazakhstan',\n",
       "       'Cayman Islands', 'Guadeloupe', 'Ethiopia', 'Sudan', 'Guinea',\n",
       "       'Antigua and Barbuda', 'Aruba', 'Kenya', 'Uruguay', 'Ghana',\n",
       "       'Jersey', 'Namibia', 'Seychelles', 'Trinidad and Tobago',\n",
       "       'Venezuela', 'Curacao', 'Eswatini', 'Gabon', 'Guatemala',\n",
       "       'Guernsey', 'Mauritania', 'Rwanda', 'Saint Lucia',\n",
       "       'Saint Vincent and the Grenadines', 'Suriname', 'Kosovo',\n",
       "       'Central African Republic', 'Congo (Brazzaville)',\n",
       "       'Equatorial Guinea', 'Uzbekistan', 'Guam', 'Puerto Rico', 'Benin',\n",
       "       'Greenland', 'Liberia', 'Mayotte', 'Republic of the Congo',\n",
       "       'Somalia', 'Tanzania', 'The Bahamas', 'Barbados', 'Montenegro',\n",
       "       'The Gambia', 'Kyrgyzstan', 'Mauritius', 'Zambia', 'Djibouti',\n",
       "       'Gambia, The', 'Bahamas, The', 'Chad', 'El Salvador', 'Fiji',\n",
       "       'Nicaragua', 'Madagascar', 'Haiti', 'Angola', 'Cabo Verde',\n",
       "       'Niger', 'Papua New Guinea', 'Zimbabwe', 'Cape Verde',\n",
       "       'East Timor', 'Eritrea', 'Uganda', 'Bahamas', 'Dominica', 'Gambia',\n",
       "       'Grenada', 'Mozambique', 'Syria', 'Timor-Leste', 'Belize', 'Laos',\n",
       "       'Libya', 'Diamond Princess', 'Guinea-Bissau', 'Mali',\n",
       "       'Saint Kitts and Nevis', 'West Bank and Gaza', 'Burma',\n",
       "       'MS Zaandam', 'Botswana', 'Burundi', 'Sierra Leone', 'Malawi',\n",
       "       'South Sudan', 'Western Sahara', 'Sao Tome and Principe', 'Yemen',\n",
       "       'Comoros', 'Tajikistan', 'Lesotho'], dtype=object)"
      ]
     },
     "execution_count": 21,
     "metadata": {},
     "output_type": "execute_result"
    }
   ],
   "source": [
    "df.Country.unique()"
   ]
  },
  {
   "cell_type": "code",
   "execution_count": 4,
   "metadata": {},
   "outputs": [
    {
     "data": {
      "text/html": [
       "<div>\n",
       "<style scoped>\n",
       "    .dataframe tbody tr th:only-of-type {\n",
       "        vertical-align: middle;\n",
       "    }\n",
       "\n",
       "    .dataframe tbody tr th {\n",
       "        vertical-align: top;\n",
       "    }\n",
       "\n",
       "    .dataframe thead th {\n",
       "        text-align: right;\n",
       "    }\n",
       "</style>\n",
       "<table border=\"1\" class=\"dataframe\">\n",
       "  <thead>\n",
       "    <tr style=\"text-align: right;\">\n",
       "      <th></th>\n",
       "      <th>Province/State</th>\n",
       "      <th>Country</th>\n",
       "      <th>Lat</th>\n",
       "      <th>Long</th>\n",
       "      <th>1/22/20</th>\n",
       "      <th>1/23/20</th>\n",
       "      <th>1/24/20</th>\n",
       "      <th>1/25/20</th>\n",
       "      <th>1/26/20</th>\n",
       "      <th>1/27/20</th>\n",
       "      <th>...</th>\n",
       "      <th>7/11/20</th>\n",
       "      <th>7/12/20</th>\n",
       "      <th>7/13/20</th>\n",
       "      <th>7/14/20</th>\n",
       "      <th>7/15/20</th>\n",
       "      <th>7/16/20</th>\n",
       "      <th>7/17/20</th>\n",
       "      <th>7/18/20</th>\n",
       "      <th>7/19/20</th>\n",
       "      <th>7/20/20</th>\n",
       "    </tr>\n",
       "  </thead>\n",
       "  <tbody>\n",
       "    <tr>\n",
       "      <th>0</th>\n",
       "      <td>NaN</td>\n",
       "      <td>Afghanistan</td>\n",
       "      <td>33.93911</td>\n",
       "      <td>67.709953</td>\n",
       "      <td>0</td>\n",
       "      <td>0</td>\n",
       "      <td>0</td>\n",
       "      <td>0</td>\n",
       "      <td>0</td>\n",
       "      <td>0</td>\n",
       "      <td>...</td>\n",
       "      <td>34366</td>\n",
       "      <td>34451</td>\n",
       "      <td>34455</td>\n",
       "      <td>34740</td>\n",
       "      <td>34994</td>\n",
       "      <td>35070</td>\n",
       "      <td>35229</td>\n",
       "      <td>35301</td>\n",
       "      <td>35475</td>\n",
       "      <td>35526</td>\n",
       "    </tr>\n",
       "    <tr>\n",
       "      <th>1</th>\n",
       "      <td>NaN</td>\n",
       "      <td>Albania</td>\n",
       "      <td>41.15330</td>\n",
       "      <td>20.168300</td>\n",
       "      <td>0</td>\n",
       "      <td>0</td>\n",
       "      <td>0</td>\n",
       "      <td>0</td>\n",
       "      <td>0</td>\n",
       "      <td>0</td>\n",
       "      <td>...</td>\n",
       "      <td>3371</td>\n",
       "      <td>3454</td>\n",
       "      <td>3571</td>\n",
       "      <td>3667</td>\n",
       "      <td>3752</td>\n",
       "      <td>3851</td>\n",
       "      <td>3906</td>\n",
       "      <td>4008</td>\n",
       "      <td>4090</td>\n",
       "      <td>4171</td>\n",
       "    </tr>\n",
       "    <tr>\n",
       "      <th>2</th>\n",
       "      <td>NaN</td>\n",
       "      <td>Algeria</td>\n",
       "      <td>28.03390</td>\n",
       "      <td>1.659600</td>\n",
       "      <td>0</td>\n",
       "      <td>0</td>\n",
       "      <td>0</td>\n",
       "      <td>0</td>\n",
       "      <td>0</td>\n",
       "      <td>0</td>\n",
       "      <td>...</td>\n",
       "      <td>18712</td>\n",
       "      <td>19195</td>\n",
       "      <td>19689</td>\n",
       "      <td>20216</td>\n",
       "      <td>20770</td>\n",
       "      <td>21355</td>\n",
       "      <td>21948</td>\n",
       "      <td>22549</td>\n",
       "      <td>23084</td>\n",
       "      <td>23691</td>\n",
       "    </tr>\n",
       "    <tr>\n",
       "      <th>3</th>\n",
       "      <td>NaN</td>\n",
       "      <td>Andorra</td>\n",
       "      <td>42.50630</td>\n",
       "      <td>1.521800</td>\n",
       "      <td>0</td>\n",
       "      <td>0</td>\n",
       "      <td>0</td>\n",
       "      <td>0</td>\n",
       "      <td>0</td>\n",
       "      <td>0</td>\n",
       "      <td>...</td>\n",
       "      <td>855</td>\n",
       "      <td>855</td>\n",
       "      <td>858</td>\n",
       "      <td>861</td>\n",
       "      <td>862</td>\n",
       "      <td>877</td>\n",
       "      <td>880</td>\n",
       "      <td>880</td>\n",
       "      <td>880</td>\n",
       "      <td>884</td>\n",
       "    </tr>\n",
       "    <tr>\n",
       "      <th>4</th>\n",
       "      <td>NaN</td>\n",
       "      <td>Angola</td>\n",
       "      <td>-11.20270</td>\n",
       "      <td>17.873900</td>\n",
       "      <td>0</td>\n",
       "      <td>0</td>\n",
       "      <td>0</td>\n",
       "      <td>0</td>\n",
       "      <td>0</td>\n",
       "      <td>0</td>\n",
       "      <td>...</td>\n",
       "      <td>462</td>\n",
       "      <td>506</td>\n",
       "      <td>525</td>\n",
       "      <td>541</td>\n",
       "      <td>576</td>\n",
       "      <td>607</td>\n",
       "      <td>638</td>\n",
       "      <td>687</td>\n",
       "      <td>705</td>\n",
       "      <td>749</td>\n",
       "    </tr>\n",
       "  </tbody>\n",
       "</table>\n",
       "<p>5 rows × 185 columns</p>\n",
       "</div>"
      ],
      "text/plain": [
       "  Province/State      Country       Lat       Long  1/22/20  1/23/20  1/24/20  \\\n",
       "0            NaN  Afghanistan  33.93911  67.709953        0        0        0   \n",
       "1            NaN      Albania  41.15330  20.168300        0        0        0   \n",
       "2            NaN      Algeria  28.03390   1.659600        0        0        0   \n",
       "3            NaN      Andorra  42.50630   1.521800        0        0        0   \n",
       "4            NaN       Angola -11.20270  17.873900        0        0        0   \n",
       "\n",
       "   1/25/20  1/26/20  1/27/20  ...  7/11/20  7/12/20  7/13/20  7/14/20  \\\n",
       "0        0        0        0  ...    34366    34451    34455    34740   \n",
       "1        0        0        0  ...     3371     3454     3571     3667   \n",
       "2        0        0        0  ...    18712    19195    19689    20216   \n",
       "3        0        0        0  ...      855      855      858      861   \n",
       "4        0        0        0  ...      462      506      525      541   \n",
       "\n",
       "   7/15/20  7/16/20  7/17/20  7/18/20  7/19/20  7/20/20  \n",
       "0    34994    35070    35229    35301    35475    35526  \n",
       "1     3752     3851     3906     4008     4090     4171  \n",
       "2    20770    21355    21948    22549    23084    23691  \n",
       "3      862      877      880      880      880      884  \n",
       "4      576      607      638      687      705      749  \n",
       "\n",
       "[5 rows x 185 columns]"
      ]
     },
     "execution_count": 4,
     "metadata": {},
     "output_type": "execute_result"
    }
   ],
   "source": [
    "df_confirmed.head()"
   ]
  },
  {
   "cell_type": "code",
   "execution_count": 9,
   "metadata": {},
   "outputs": [],
   "source": [
    "df_confirmed.rename(columns={'Province/State':'State'}, inplace=True)\n",
    "df_recovered.rename(columns={'Province/State':'State'}, inplace=True)\n",
    "df_deaths.rename(columns={'Province/State':'State'}, inplace=True)\n",
    "df.rename(columns={'Province/State':'State'}, inplace=True)"
   ]
  },
  {
   "cell_type": "code",
   "execution_count": 6,
   "metadata": {},
   "outputs": [
    {
     "data": {
      "text/html": [
       "<div>\n",
       "<style scoped>\n",
       "    .dataframe tbody tr th:only-of-type {\n",
       "        vertical-align: middle;\n",
       "    }\n",
       "\n",
       "    .dataframe tbody tr th {\n",
       "        vertical-align: top;\n",
       "    }\n",
       "\n",
       "    .dataframe thead th {\n",
       "        text-align: right;\n",
       "    }\n",
       "</style>\n",
       "<table border=\"1\" class=\"dataframe\">\n",
       "  <thead>\n",
       "    <tr style=\"text-align: right;\">\n",
       "      <th></th>\n",
       "      <th>State</th>\n",
       "      <th>Country</th>\n",
       "      <th>Lat</th>\n",
       "      <th>Long</th>\n",
       "      <th>1/22/20</th>\n",
       "      <th>1/23/20</th>\n",
       "      <th>1/24/20</th>\n",
       "      <th>1/25/20</th>\n",
       "      <th>1/26/20</th>\n",
       "      <th>1/27/20</th>\n",
       "      <th>...</th>\n",
       "      <th>7/11/20</th>\n",
       "      <th>7/12/20</th>\n",
       "      <th>7/13/20</th>\n",
       "      <th>7/14/20</th>\n",
       "      <th>7/15/20</th>\n",
       "      <th>7/16/20</th>\n",
       "      <th>7/17/20</th>\n",
       "      <th>7/18/20</th>\n",
       "      <th>7/19/20</th>\n",
       "      <th>7/20/20</th>\n",
       "    </tr>\n",
       "  </thead>\n",
       "  <tbody>\n",
       "    <tr>\n",
       "      <th>0</th>\n",
       "      <td>NaN</td>\n",
       "      <td>Afghanistan</td>\n",
       "      <td>33.93911</td>\n",
       "      <td>67.709953</td>\n",
       "      <td>0</td>\n",
       "      <td>0</td>\n",
       "      <td>0</td>\n",
       "      <td>0</td>\n",
       "      <td>0</td>\n",
       "      <td>0</td>\n",
       "      <td>...</td>\n",
       "      <td>34366</td>\n",
       "      <td>34451</td>\n",
       "      <td>34455</td>\n",
       "      <td>34740</td>\n",
       "      <td>34994</td>\n",
       "      <td>35070</td>\n",
       "      <td>35229</td>\n",
       "      <td>35301</td>\n",
       "      <td>35475</td>\n",
       "      <td>35526</td>\n",
       "    </tr>\n",
       "    <tr>\n",
       "      <th>1</th>\n",
       "      <td>NaN</td>\n",
       "      <td>Albania</td>\n",
       "      <td>41.15330</td>\n",
       "      <td>20.168300</td>\n",
       "      <td>0</td>\n",
       "      <td>0</td>\n",
       "      <td>0</td>\n",
       "      <td>0</td>\n",
       "      <td>0</td>\n",
       "      <td>0</td>\n",
       "      <td>...</td>\n",
       "      <td>3371</td>\n",
       "      <td>3454</td>\n",
       "      <td>3571</td>\n",
       "      <td>3667</td>\n",
       "      <td>3752</td>\n",
       "      <td>3851</td>\n",
       "      <td>3906</td>\n",
       "      <td>4008</td>\n",
       "      <td>4090</td>\n",
       "      <td>4171</td>\n",
       "    </tr>\n",
       "    <tr>\n",
       "      <th>2</th>\n",
       "      <td>NaN</td>\n",
       "      <td>Algeria</td>\n",
       "      <td>28.03390</td>\n",
       "      <td>1.659600</td>\n",
       "      <td>0</td>\n",
       "      <td>0</td>\n",
       "      <td>0</td>\n",
       "      <td>0</td>\n",
       "      <td>0</td>\n",
       "      <td>0</td>\n",
       "      <td>...</td>\n",
       "      <td>18712</td>\n",
       "      <td>19195</td>\n",
       "      <td>19689</td>\n",
       "      <td>20216</td>\n",
       "      <td>20770</td>\n",
       "      <td>21355</td>\n",
       "      <td>21948</td>\n",
       "      <td>22549</td>\n",
       "      <td>23084</td>\n",
       "      <td>23691</td>\n",
       "    </tr>\n",
       "    <tr>\n",
       "      <th>3</th>\n",
       "      <td>NaN</td>\n",
       "      <td>Andorra</td>\n",
       "      <td>42.50630</td>\n",
       "      <td>1.521800</td>\n",
       "      <td>0</td>\n",
       "      <td>0</td>\n",
       "      <td>0</td>\n",
       "      <td>0</td>\n",
       "      <td>0</td>\n",
       "      <td>0</td>\n",
       "      <td>...</td>\n",
       "      <td>855</td>\n",
       "      <td>855</td>\n",
       "      <td>858</td>\n",
       "      <td>861</td>\n",
       "      <td>862</td>\n",
       "      <td>877</td>\n",
       "      <td>880</td>\n",
       "      <td>880</td>\n",
       "      <td>880</td>\n",
       "      <td>884</td>\n",
       "    </tr>\n",
       "    <tr>\n",
       "      <th>4</th>\n",
       "      <td>NaN</td>\n",
       "      <td>Angola</td>\n",
       "      <td>-11.20270</td>\n",
       "      <td>17.873900</td>\n",
       "      <td>0</td>\n",
       "      <td>0</td>\n",
       "      <td>0</td>\n",
       "      <td>0</td>\n",
       "      <td>0</td>\n",
       "      <td>0</td>\n",
       "      <td>...</td>\n",
       "      <td>462</td>\n",
       "      <td>506</td>\n",
       "      <td>525</td>\n",
       "      <td>541</td>\n",
       "      <td>576</td>\n",
       "      <td>607</td>\n",
       "      <td>638</td>\n",
       "      <td>687</td>\n",
       "      <td>705</td>\n",
       "      <td>749</td>\n",
       "    </tr>\n",
       "  </tbody>\n",
       "</table>\n",
       "<p>5 rows × 185 columns</p>\n",
       "</div>"
      ],
      "text/plain": [
       "  State      Country       Lat       Long  1/22/20  1/23/20  1/24/20  1/25/20  \\\n",
       "0   NaN  Afghanistan  33.93911  67.709953        0        0        0        0   \n",
       "1   NaN      Albania  41.15330  20.168300        0        0        0        0   \n",
       "2   NaN      Algeria  28.03390   1.659600        0        0        0        0   \n",
       "3   NaN      Andorra  42.50630   1.521800        0        0        0        0   \n",
       "4   NaN       Angola -11.20270  17.873900        0        0        0        0   \n",
       "\n",
       "   1/26/20  1/27/20  ...  7/11/20  7/12/20  7/13/20  7/14/20  7/15/20  \\\n",
       "0        0        0  ...    34366    34451    34455    34740    34994   \n",
       "1        0        0  ...     3371     3454     3571     3667     3752   \n",
       "2        0        0  ...    18712    19195    19689    20216    20770   \n",
       "3        0        0  ...      855      855      858      861      862   \n",
       "4        0        0  ...      462      506      525      541      576   \n",
       "\n",
       "   7/16/20  7/17/20  7/18/20  7/19/20  7/20/20  \n",
       "0    35070    35229    35301    35475    35526  \n",
       "1     3851     3906     4008     4090     4171  \n",
       "2    21355    21948    22549    23084    23691  \n",
       "3      877      880      880      880      884  \n",
       "4      607      638      687      705      749  \n",
       "\n",
       "[5 rows x 185 columns]"
      ]
     },
     "execution_count": 6,
     "metadata": {},
     "output_type": "execute_result"
    }
   ],
   "source": [
    "df_confirmed.head()"
   ]
  },
  {
   "cell_type": "code",
   "execution_count": 7,
   "metadata": {},
   "outputs": [
    {
     "data": {
      "text/plain": [
       "array([nan, 'Australian Capital Territory', 'New South Wales',\n",
       "       'Northern Territory', 'Queensland', 'South Australia', 'Tasmania',\n",
       "       'Victoria', 'Western Australia', 'Alberta', 'British Columbia',\n",
       "       'Grand Princess', 'Manitoba', 'New Brunswick',\n",
       "       'Newfoundland and Labrador', 'Nova Scotia', 'Ontario',\n",
       "       'Prince Edward Island', 'Quebec', 'Saskatchewan', 'Anhui',\n",
       "       'Beijing', 'Chongqing', 'Fujian', 'Gansu', 'Guangdong', 'Guangxi',\n",
       "       'Guizhou', 'Hainan', 'Hebei', 'Heilongjiang', 'Henan', 'Hong Kong',\n",
       "       'Hubei', 'Hunan', 'Inner Mongolia', 'Jiangsu', 'Jiangxi', 'Jilin',\n",
       "       'Liaoning', 'Macau', 'Ningxia', 'Qinghai', 'Shaanxi', 'Shandong',\n",
       "       'Shanghai', 'Shanxi', 'Sichuan', 'Tianjin', 'Tibet', 'Xinjiang',\n",
       "       'Yunnan', 'Zhejiang', 'Faroe Islands', 'Greenland',\n",
       "       'French Guiana', 'French Polynesia', 'Guadeloupe', 'Mayotte',\n",
       "       'New Caledonia', 'Reunion', 'Saint Barthelemy', 'St Martin',\n",
       "       'Martinique', 'Aruba', 'Curacao', 'Sint Maarten', 'Bermuda',\n",
       "       'Cayman Islands', 'Channel Islands', 'Gibraltar', 'Isle of Man',\n",
       "       'Montserrat', 'Diamond Princess', 'Northwest Territories', 'Yukon',\n",
       "       'Anguilla', 'British Virgin Islands', 'Turks and Caicos Islands',\n",
       "       'Bonaire, Sint Eustatius and Saba', 'Falkland Islands (Malvinas)',\n",
       "       'Saint Pierre and Miquelon'], dtype=object)"
      ]
     },
     "execution_count": 7,
     "metadata": {},
     "output_type": "execute_result"
    }
   ],
   "source": [
    "df_confirmed.State.unique()"
   ]
  },
  {
   "cell_type": "code",
   "execution_count": 10,
   "metadata": {},
   "outputs": [],
   "source": [
    "## Group the case by Country\n",
    "df_grouped = df.groupby([\"Date\", \"Country\", \"State\"])[['SNo', 'Date', 'State', 'Country', 'Confirmed', 'Deaths', 'Recovered']].sum().reset_index()"
   ]
  },
  {
   "cell_type": "code",
   "execution_count": 11,
   "metadata": {},
   "outputs": [
    {
     "data": {
      "text/html": [
       "<div>\n",
       "<style scoped>\n",
       "    .dataframe tbody tr th:only-of-type {\n",
       "        vertical-align: middle;\n",
       "    }\n",
       "\n",
       "    .dataframe tbody tr th {\n",
       "        vertical-align: top;\n",
       "    }\n",
       "\n",
       "    .dataframe thead th {\n",
       "        text-align: right;\n",
       "    }\n",
       "</style>\n",
       "<table border=\"1\" class=\"dataframe\">\n",
       "  <thead>\n",
       "    <tr style=\"text-align: right;\">\n",
       "      <th></th>\n",
       "      <th>Date</th>\n",
       "      <th>Country</th>\n",
       "      <th>State</th>\n",
       "      <th>SNo</th>\n",
       "      <th>Confirmed</th>\n",
       "      <th>Deaths</th>\n",
       "      <th>Recovered</th>\n",
       "    </tr>\n",
       "  </thead>\n",
       "  <tbody>\n",
       "    <tr>\n",
       "      <th>0</th>\n",
       "      <td>01/22/2020</td>\n",
       "      <td>Hong Kong</td>\n",
       "      <td>Hong Kong</td>\n",
       "      <td>13</td>\n",
       "      <td>0.0</td>\n",
       "      <td>0.0</td>\n",
       "      <td>0.0</td>\n",
       "    </tr>\n",
       "    <tr>\n",
       "      <th>1</th>\n",
       "      <td>01/22/2020</td>\n",
       "      <td>Macau</td>\n",
       "      <td>Macau</td>\n",
       "      <td>21</td>\n",
       "      <td>1.0</td>\n",
       "      <td>0.0</td>\n",
       "      <td>0.0</td>\n",
       "    </tr>\n",
       "    <tr>\n",
       "      <th>2</th>\n",
       "      <td>01/22/2020</td>\n",
       "      <td>Mainland China</td>\n",
       "      <td>Anhui</td>\n",
       "      <td>1</td>\n",
       "      <td>1.0</td>\n",
       "      <td>0.0</td>\n",
       "      <td>0.0</td>\n",
       "    </tr>\n",
       "    <tr>\n",
       "      <th>3</th>\n",
       "      <td>01/22/2020</td>\n",
       "      <td>Mainland China</td>\n",
       "      <td>Beijing</td>\n",
       "      <td>2</td>\n",
       "      <td>14.0</td>\n",
       "      <td>0.0</td>\n",
       "      <td>0.0</td>\n",
       "    </tr>\n",
       "    <tr>\n",
       "      <th>4</th>\n",
       "      <td>01/22/2020</td>\n",
       "      <td>Mainland China</td>\n",
       "      <td>Chongqing</td>\n",
       "      <td>3</td>\n",
       "      <td>6.0</td>\n",
       "      <td>0.0</td>\n",
       "      <td>0.0</td>\n",
       "    </tr>\n",
       "  </tbody>\n",
       "</table>\n",
       "</div>"
      ],
      "text/plain": [
       "         Date         Country      State  SNo  Confirmed  Deaths  Recovered\n",
       "0  01/22/2020       Hong Kong  Hong Kong   13        0.0     0.0        0.0\n",
       "1  01/22/2020           Macau      Macau   21        1.0     0.0        0.0\n",
       "2  01/22/2020  Mainland China      Anhui    1        1.0     0.0        0.0\n",
       "3  01/22/2020  Mainland China    Beijing    2       14.0     0.0        0.0\n",
       "4  01/22/2020  Mainland China  Chongqing    3        6.0     0.0        0.0"
      ]
     },
     "execution_count": 11,
     "metadata": {},
     "output_type": "execute_result"
    }
   ],
   "source": [
    "df_grouped.head()"
   ]
  },
  {
   "cell_type": "code",
   "execution_count": 12,
   "metadata": {},
   "outputs": [
    {
     "data": {
      "text/plain": [
       "(44121, 7)"
      ]
     },
     "execution_count": 12,
     "metadata": {},
     "output_type": "execute_result"
    }
   ],
   "source": [
    "df_grouped.shape"
   ]
  },
  {
   "cell_type": "code",
   "execution_count": 13,
   "metadata": {},
   "outputs": [
    {
     "data": {
      "text/html": [
       "<div>\n",
       "<style scoped>\n",
       "    .dataframe tbody tr th:only-of-type {\n",
       "        vertical-align: middle;\n",
       "    }\n",
       "\n",
       "    .dataframe tbody tr th {\n",
       "        vertical-align: top;\n",
       "    }\n",
       "\n",
       "    .dataframe thead th {\n",
       "        text-align: right;\n",
       "    }\n",
       "</style>\n",
       "<table border=\"1\" class=\"dataframe\">\n",
       "  <thead>\n",
       "    <tr style=\"text-align: right;\">\n",
       "      <th></th>\n",
       "      <th>SNo</th>\n",
       "      <th>Confirmed</th>\n",
       "      <th>Deaths</th>\n",
       "      <th>Recovered</th>\n",
       "    </tr>\n",
       "  </thead>\n",
       "  <tbody>\n",
       "    <tr>\n",
       "      <th>count</th>\n",
       "      <td>44121.000000</td>\n",
       "      <td>44121.000000</td>\n",
       "      <td>44121.000000</td>\n",
       "      <td>4.412100e+04</td>\n",
       "    </tr>\n",
       "    <tr>\n",
       "      <th>mean</th>\n",
       "      <td>37861.592258</td>\n",
       "      <td>10411.706852</td>\n",
       "      <td>559.521951</td>\n",
       "      <td>4.736056e+03</td>\n",
       "    </tr>\n",
       "    <tr>\n",
       "      <th>std</th>\n",
       "      <td>19508.128730</td>\n",
       "      <td>31749.739167</td>\n",
       "      <td>2278.744625</td>\n",
       "      <td>3.103087e+04</td>\n",
       "    </tr>\n",
       "    <tr>\n",
       "      <th>min</th>\n",
       "      <td>1.000000</td>\n",
       "      <td>0.000000</td>\n",
       "      <td>0.000000</td>\n",
       "      <td>0.000000e+00</td>\n",
       "    </tr>\n",
       "    <tr>\n",
       "      <th>25%</th>\n",
       "      <td>23047.000000</td>\n",
       "      <td>149.000000</td>\n",
       "      <td>2.000000</td>\n",
       "      <td>0.000000e+00</td>\n",
       "    </tr>\n",
       "    <tr>\n",
       "      <th>50%</th>\n",
       "      <td>39911.000000</td>\n",
       "      <td>1194.000000</td>\n",
       "      <td>20.000000</td>\n",
       "      <td>1.250000e+02</td>\n",
       "    </tr>\n",
       "    <tr>\n",
       "      <th>75%</th>\n",
       "      <td>54321.000000</td>\n",
       "      <td>5571.000000</td>\n",
       "      <td>214.000000</td>\n",
       "      <td>1.409000e+03</td>\n",
       "    </tr>\n",
       "    <tr>\n",
       "      <th>max</th>\n",
       "      <td>68558.000000</td>\n",
       "      <td>416434.000000</td>\n",
       "      <td>40718.000000</td>\n",
       "      <td>1.160087e+06</td>\n",
       "    </tr>\n",
       "  </tbody>\n",
       "</table>\n",
       "</div>"
      ],
      "text/plain": [
       "                SNo      Confirmed        Deaths     Recovered\n",
       "count  44121.000000   44121.000000  44121.000000  4.412100e+04\n",
       "mean   37861.592258   10411.706852    559.521951  4.736056e+03\n",
       "std    19508.128730   31749.739167   2278.744625  3.103087e+04\n",
       "min        1.000000       0.000000      0.000000  0.000000e+00\n",
       "25%    23047.000000     149.000000      2.000000  0.000000e+00\n",
       "50%    39911.000000    1194.000000     20.000000  1.250000e+02\n",
       "75%    54321.000000    5571.000000    214.000000  1.409000e+03\n",
       "max    68558.000000  416434.000000  40718.000000  1.160087e+06"
      ]
     },
     "execution_count": 13,
     "metadata": {},
     "output_type": "execute_result"
    }
   ],
   "source": [
    "df_grouped.describe()"
   ]
  },
  {
   "cell_type": "code",
   "execution_count": 14,
   "metadata": {},
   "outputs": [
    {
     "data": {
      "text/plain": [
       "Index(['Date', 'Country', 'State', 'SNo', 'Confirmed', 'Deaths', 'Recovered'], dtype='object')"
      ]
     },
     "execution_count": 14,
     "metadata": {},
     "output_type": "execute_result"
    }
   ],
   "source": [
    "df_grouped.columns"
   ]
  },
  {
   "cell_type": "code",
   "execution_count": 15,
   "metadata": {},
   "outputs": [
    {
     "data": {
      "image/png": "[encoded data removed]",
      "text/plain": [
       "<Figure size 720x720 with 20 Axes>"
      ]
     },
     "metadata": {
      "needs_background": "light"
     },
     "output_type": "display_data"
    }
   ],
   "source": [
    "pairplot = sns.pairplot(df_grouped)"
   ]
  },
  {
   "cell_type": "code",
   "execution_count": 20,
   "metadata": {},
   "outputs": [
    {
     "data": {
      "text/plain": [
       "Text(0.5, 1.0, 'Confirmed Case over time')"
      ]
     },
     "execution_count": 20,
     "metadata": {},
     "output_type": "execute_result"
    },
    {
     "data": {
      "image/png": "[encoded data removed]",
      "text/plain": [
       "<Figure size 1440x648 with 1 Axes>"
      ]
     },
     "metadata": {
      "needs_background": "light"
     },
     "output_type": "display_data"
    }
   ],
   "source": [
    "plt.figure(figsize=(20,9))\n",
    "sns.lineplot(x=\"Date\", y=\"Confirmed\", data=df_grouped).set_title(\"Confirmed Case over time\")"
   ]
  },
  {
   "cell_type": "code",
   "execution_count": 37,
   "metadata": {},
   "outputs": [
    {
     "data": {
      "text/html": [
       "<div>\n",
       "<style scoped>\n",
       "    .dataframe tbody tr th:only-of-type {\n",
       "        vertical-align: middle;\n",
       "    }\n",
       "\n",
       "    .dataframe tbody tr th {\n",
       "        vertical-align: top;\n",
       "    }\n",
       "\n",
       "    .dataframe thead th {\n",
       "        text-align: right;\n",
       "    }\n",
       "</style>\n",
       "<table border=\"1\" class=\"dataframe\">\n",
       "  <thead>\n",
       "    <tr style=\"text-align: right;\">\n",
       "      <th></th>\n",
       "      <th>Last Update</th>\n",
       "      <th>Confirmed</th>\n",
       "      <th>Deaths</th>\n",
       "      <th>Recovered</th>\n",
       "    </tr>\n",
       "  </thead>\n",
       "  <tbody>\n",
       "    <tr>\n",
       "      <th>0</th>\n",
       "      <td>2020-03-02 23:53:02</td>\n",
       "      <td>3.0</td>\n",
       "      <td>0.0</td>\n",
       "      <td>0.0</td>\n",
       "    </tr>\n",
       "    <tr>\n",
       "      <th>1</th>\n",
       "      <td>2020-03-05 17:53:03</td>\n",
       "      <td>15.0</td>\n",
       "      <td>0.0</td>\n",
       "      <td>0.0</td>\n",
       "    </tr>\n",
       "    <tr>\n",
       "      <th>2</th>\n",
       "      <td>2020-03-08 05:31:00</td>\n",
       "      <td>4466.0</td>\n",
       "      <td>20.0</td>\n",
       "      <td>235.0</td>\n",
       "    </tr>\n",
       "    <tr>\n",
       "      <th>3</th>\n",
       "      <td>2020-03-08 10:13:19</td>\n",
       "      <td>11.0</td>\n",
       "      <td>0.0</td>\n",
       "      <td>0.0</td>\n",
       "    </tr>\n",
       "    <tr>\n",
       "      <th>4</th>\n",
       "      <td>2020-03-09 09:03:03</td>\n",
       "      <td>15.0</td>\n",
       "      <td>0.0</td>\n",
       "      <td>0.0</td>\n",
       "    </tr>\n",
       "    <tr>\n",
       "      <th>...</th>\n",
       "      <td>...</td>\n",
       "      <td>...</td>\n",
       "      <td>...</td>\n",
       "      <td>...</td>\n",
       "    </tr>\n",
       "    <tr>\n",
       "      <th>127</th>\n",
       "      <td>2020-07-17 04:34:50</td>\n",
       "      <td>243238.0</td>\n",
       "      <td>2370.0</td>\n",
       "      <td>187622.0</td>\n",
       "    </tr>\n",
       "    <tr>\n",
       "      <th>128</th>\n",
       "      <td>2020-07-18 04:34:45</td>\n",
       "      <td>245851.0</td>\n",
       "      <td>2407.0</td>\n",
       "      <td>191161.0</td>\n",
       "    </tr>\n",
       "    <tr>\n",
       "      <th>129</th>\n",
       "      <td>2020-07-19 04:34:58</td>\n",
       "      <td>248416.0</td>\n",
       "      <td>2447.0</td>\n",
       "      <td>194218.0</td>\n",
       "    </tr>\n",
       "    <tr>\n",
       "      <th>130</th>\n",
       "      <td>2020-07-20 05:34:40</td>\n",
       "      <td>250920.0</td>\n",
       "      <td>2486.0</td>\n",
       "      <td>197735.0</td>\n",
       "    </tr>\n",
       "    <tr>\n",
       "      <th>131</th>\n",
       "      <td>2020-07-21 04:38:46</td>\n",
       "      <td>253349.0</td>\n",
       "      <td>2523.0</td>\n",
       "      <td>203259.0</td>\n",
       "    </tr>\n",
       "  </tbody>\n",
       "</table>\n",
       "<p>132 rows × 4 columns</p>\n",
       "</div>"
      ],
      "text/plain": [
       "            Last Update  Confirmed  Deaths  Recovered\n",
       "0   2020-03-02 23:53:02        3.0     0.0        0.0\n",
       "1   2020-03-05 17:53:03       15.0     0.0        0.0\n",
       "2   2020-03-08 05:31:00     4466.0    20.0      235.0\n",
       "3   2020-03-08 10:13:19       11.0     0.0        0.0\n",
       "4   2020-03-09 09:03:03       15.0     0.0        0.0\n",
       "..                  ...        ...     ...        ...\n",
       "127 2020-07-17 04:34:50   243238.0  2370.0   187622.0\n",
       "128 2020-07-18 04:34:45   245851.0  2407.0   191161.0\n",
       "129 2020-07-19 04:34:58   248416.0  2447.0   194218.0\n",
       "130 2020-07-20 05:34:40   250920.0  2486.0   197735.0\n",
       "131 2020-07-21 04:38:46   253349.0  2523.0   203259.0\n",
       "\n",
       "[132 rows x 4 columns]"
      ]
     },
     "execution_count": 37,
     "metadata": {},
     "output_type": "execute_result"
    }
   ],
   "source": [
    "## Group by Saudi Arabia\n",
    "df.query('Country==\"Saudi Arabia\"').groupby(\"Last Update\")[['Confirmed', 'Deaths', 'Recovered']].sum().reset_index()"
   ]
  },
  {
   "cell_type": "code",
   "execution_count": 34,
   "metadata": {},
   "outputs": [
    {
     "data": {
      "text/plain": [
       "68558"
      ]
     },
     "execution_count": 34,
     "metadata": {},
     "output_type": "execute_result"
    }
   ],
   "source": [
    "df.Country.count()"
   ]
  },
  {
   "cell_type": "code",
   "execution_count": 38,
   "metadata": {},
   "outputs": [],
   "source": [
    "sau = df[(df.Country == \"Saudi Arabia\")]"
   ]
  },
  {
   "cell_type": "code",
   "execution_count": 39,
   "metadata": {},
   "outputs": [
    {
     "data": {
      "text/html": [
       "<div>\n",
       "<style scoped>\n",
       "    .dataframe tbody tr th:only-of-type {\n",
       "        vertical-align: middle;\n",
       "    }\n",
       "\n",
       "    .dataframe tbody tr th {\n",
       "        vertical-align: top;\n",
       "    }\n",
       "\n",
       "    .dataframe thead th {\n",
       "        text-align: right;\n",
       "    }\n",
       "</style>\n",
       "<table border=\"1\" class=\"dataframe\">\n",
       "  <thead>\n",
       "    <tr style=\"text-align: right;\">\n",
       "      <th></th>\n",
       "      <th>SNo</th>\n",
       "      <th>Date</th>\n",
       "      <th>State</th>\n",
       "      <th>Country</th>\n",
       "      <th>Last Update</th>\n",
       "      <th>Confirmed</th>\n",
       "      <th>Deaths</th>\n",
       "      <th>Recovered</th>\n",
       "    </tr>\n",
       "  </thead>\n",
       "  <tbody>\n",
       "    <tr>\n",
       "      <th>3062</th>\n",
       "      <td>3063</td>\n",
       "      <td>03/02/2020</td>\n",
       "      <td>NaN</td>\n",
       "      <td>Saudi Arabia</td>\n",
       "      <td>2020-03-02 23:53:02</td>\n",
       "      <td>1.0</td>\n",
       "      <td>0.0</td>\n",
       "      <td>0.0</td>\n",
       "    </tr>\n",
       "    <tr>\n",
       "      <th>3211</th>\n",
       "      <td>3212</td>\n",
       "      <td>03/03/2020</td>\n",
       "      <td>NaN</td>\n",
       "      <td>Saudi Arabia</td>\n",
       "      <td>2020-03-02 23:53:02</td>\n",
       "      <td>1.0</td>\n",
       "      <td>0.0</td>\n",
       "      <td>0.0</td>\n",
       "    </tr>\n",
       "    <tr>\n",
       "      <th>3373</th>\n",
       "      <td>3374</td>\n",
       "      <td>03/04/2020</td>\n",
       "      <td>NaN</td>\n",
       "      <td>Saudi Arabia</td>\n",
       "      <td>2020-03-02 23:53:02</td>\n",
       "      <td>1.0</td>\n",
       "      <td>0.0</td>\n",
       "      <td>0.0</td>\n",
       "    </tr>\n",
       "    <tr>\n",
       "      <th>3484</th>\n",
       "      <td>3485</td>\n",
       "      <td>03/05/2020</td>\n",
       "      <td>NaN</td>\n",
       "      <td>Saudi Arabia</td>\n",
       "      <td>2020-03-05 17:53:03</td>\n",
       "      <td>5.0</td>\n",
       "      <td>0.0</td>\n",
       "      <td>0.0</td>\n",
       "    </tr>\n",
       "    <tr>\n",
       "      <th>3666</th>\n",
       "      <td>3667</td>\n",
       "      <td>03/06/2020</td>\n",
       "      <td>NaN</td>\n",
       "      <td>Saudi Arabia</td>\n",
       "      <td>2020-03-05 17:53:03</td>\n",
       "      <td>5.0</td>\n",
       "      <td>0.0</td>\n",
       "      <td>0.0</td>\n",
       "    </tr>\n",
       "  </tbody>\n",
       "</table>\n",
       "</div>"
      ],
      "text/plain": [
       "       SNo        Date State       Country         Last Update  Confirmed  \\\n",
       "3062  3063  03/02/2020   NaN  Saudi Arabia 2020-03-02 23:53:02        1.0   \n",
       "3211  3212  03/03/2020   NaN  Saudi Arabia 2020-03-02 23:53:02        1.0   \n",
       "3373  3374  03/04/2020   NaN  Saudi Arabia 2020-03-02 23:53:02        1.0   \n",
       "3484  3485  03/05/2020   NaN  Saudi Arabia 2020-03-05 17:53:03        5.0   \n",
       "3666  3667  03/06/2020   NaN  Saudi Arabia 2020-03-05 17:53:03        5.0   \n",
       "\n",
       "      Deaths  Recovered  \n",
       "3062     0.0        0.0  \n",
       "3211     0.0        0.0  \n",
       "3373     0.0        0.0  \n",
       "3484     0.0        0.0  \n",
       "3666     0.0        0.0  "
      ]
     },
     "execution_count": 39,
     "metadata": {},
     "output_type": "execute_result"
    }
   ],
   "source": [
    "sau.head()"
   ]
  },
  {
   "cell_type": "code",
   "execution_count": 40,
   "metadata": {},
   "outputs": [
    {
     "data": {
      "text/plain": [
       "array(['Saudi Arabia'], dtype=object)"
      ]
     },
     "execution_count": 40,
     "metadata": {},
     "output_type": "execute_result"
    }
   ],
   "source": [
    "sau.Country.unique()"
   ]
  },
  {
   "cell_type": "code",
   "execution_count": 41,
   "metadata": {},
   "outputs": [
    {
     "data": {
      "text/plain": [
       "SNo            141\n",
       "Date           141\n",
       "State            0\n",
       "Country        141\n",
       "Last Update    141\n",
       "Confirmed      141\n",
       "Deaths         141\n",
       "Recovered      141\n",
       "dtype: int64"
      ]
     },
     "execution_count": 41,
     "metadata": {},
     "output_type": "execute_result"
    }
   ],
   "source": [
    "sau.count()"
   ]
  },
  {
   "cell_type": "code",
   "execution_count": 42,
   "metadata": {},
   "outputs": [],
   "source": [
    "confirmed = sau.groupby('Date').sum()['Confirmed'].reset_index()\n",
    "deaths = sau.groupby('Date').sum()['Deaths'].reset_index()\n",
    "recovered = sau.groupby('Date').sum()['Recovered'].reset_index()"
   ]
  },
  {
   "cell_type": "code",
   "execution_count": 47,
   "metadata": {},
   "outputs": [
    {
     "data": {
      "text/html": [
       "<div>\n",
       "<style scoped>\n",
       "    .dataframe tbody tr th:only-of-type {\n",
       "        vertical-align: middle;\n",
       "    }\n",
       "\n",
       "    .dataframe tbody tr th {\n",
       "        vertical-align: top;\n",
       "    }\n",
       "\n",
       "    .dataframe thead th {\n",
       "        text-align: right;\n",
       "    }\n",
       "</style>\n",
       "<table border=\"1\" class=\"dataframe\">\n",
       "  <thead>\n",
       "    <tr style=\"text-align: right;\">\n",
       "      <th></th>\n",
       "      <th>Date</th>\n",
       "      <th>Confirmed</th>\n",
       "    </tr>\n",
       "  </thead>\n",
       "  <tbody>\n",
       "    <tr>\n",
       "      <th>0</th>\n",
       "      <td>03/02/2020</td>\n",
       "      <td>1.0</td>\n",
       "    </tr>\n",
       "    <tr>\n",
       "      <th>1</th>\n",
       "      <td>03/03/2020</td>\n",
       "      <td>1.0</td>\n",
       "    </tr>\n",
       "    <tr>\n",
       "      <th>2</th>\n",
       "      <td>03/04/2020</td>\n",
       "      <td>1.0</td>\n",
       "    </tr>\n",
       "    <tr>\n",
       "      <th>3</th>\n",
       "      <td>03/05/2020</td>\n",
       "      <td>5.0</td>\n",
       "    </tr>\n",
       "    <tr>\n",
       "      <th>4</th>\n",
       "      <td>03/06/2020</td>\n",
       "      <td>5.0</td>\n",
       "    </tr>\n",
       "  </tbody>\n",
       "</table>\n",
       "</div>"
      ],
      "text/plain": [
       "         Date  Confirmed\n",
       "0  03/02/2020        1.0\n",
       "1  03/03/2020        1.0\n",
       "2  03/04/2020        1.0\n",
       "3  03/05/2020        5.0\n",
       "4  03/06/2020        5.0"
      ]
     },
     "execution_count": 47,
     "metadata": {},
     "output_type": "execute_result"
    }
   ],
   "source": [
    "confirmed.head()"
   ]
  },
  {
   "cell_type": "code",
   "execution_count": 48,
   "metadata": {},
   "outputs": [
    {
     "data": {
      "text/html": [
       "<div>\n",
       "<style scoped>\n",
       "    .dataframe tbody tr th:only-of-type {\n",
       "        vertical-align: middle;\n",
       "    }\n",
       "\n",
       "    .dataframe tbody tr th {\n",
       "        vertical-align: top;\n",
       "    }\n",
       "\n",
       "    .dataframe thead th {\n",
       "        text-align: right;\n",
       "    }\n",
       "</style>\n",
       "<table border=\"1\" class=\"dataframe\">\n",
       "  <thead>\n",
       "    <tr style=\"text-align: right;\">\n",
       "      <th></th>\n",
       "      <th>Date</th>\n",
       "      <th>Deaths</th>\n",
       "    </tr>\n",
       "  </thead>\n",
       "  <tbody>\n",
       "    <tr>\n",
       "      <th>0</th>\n",
       "      <td>03/02/2020</td>\n",
       "      <td>0.0</td>\n",
       "    </tr>\n",
       "    <tr>\n",
       "      <th>1</th>\n",
       "      <td>03/03/2020</td>\n",
       "      <td>0.0</td>\n",
       "    </tr>\n",
       "    <tr>\n",
       "      <th>2</th>\n",
       "      <td>03/04/2020</td>\n",
       "      <td>0.0</td>\n",
       "    </tr>\n",
       "    <tr>\n",
       "      <th>3</th>\n",
       "      <td>03/05/2020</td>\n",
       "      <td>0.0</td>\n",
       "    </tr>\n",
       "    <tr>\n",
       "      <th>4</th>\n",
       "      <td>03/06/2020</td>\n",
       "      <td>0.0</td>\n",
       "    </tr>\n",
       "  </tbody>\n",
       "</table>\n",
       "</div>"
      ],
      "text/plain": [
       "         Date  Deaths\n",
       "0  03/02/2020     0.0\n",
       "1  03/03/2020     0.0\n",
       "2  03/04/2020     0.0\n",
       "3  03/05/2020     0.0\n",
       "4  03/06/2020     0.0"
      ]
     },
     "execution_count": 48,
     "metadata": {},
     "output_type": "execute_result"
    }
   ],
   "source": [
    "deaths.head()"
   ]
  },
  {
   "cell_type": "code",
   "execution_count": 49,
   "metadata": {},
   "outputs": [
    {
     "data": {
      "text/html": [
       "<div>\n",
       "<style scoped>\n",
       "    .dataframe tbody tr th:only-of-type {\n",
       "        vertical-align: middle;\n",
       "    }\n",
       "\n",
       "    .dataframe tbody tr th {\n",
       "        vertical-align: top;\n",
       "    }\n",
       "\n",
       "    .dataframe thead th {\n",
       "        text-align: right;\n",
       "    }\n",
       "</style>\n",
       "<table border=\"1\" class=\"dataframe\">\n",
       "  <thead>\n",
       "    <tr style=\"text-align: right;\">\n",
       "      <th></th>\n",
       "      <th>Date</th>\n",
       "      <th>Recovered</th>\n",
       "    </tr>\n",
       "  </thead>\n",
       "  <tbody>\n",
       "    <tr>\n",
       "      <th>0</th>\n",
       "      <td>03/02/2020</td>\n",
       "      <td>0.0</td>\n",
       "    </tr>\n",
       "    <tr>\n",
       "      <th>1</th>\n",
       "      <td>03/03/2020</td>\n",
       "      <td>0.0</td>\n",
       "    </tr>\n",
       "    <tr>\n",
       "      <th>2</th>\n",
       "      <td>03/04/2020</td>\n",
       "      <td>0.0</td>\n",
       "    </tr>\n",
       "    <tr>\n",
       "      <th>3</th>\n",
       "      <td>03/05/2020</td>\n",
       "      <td>0.0</td>\n",
       "    </tr>\n",
       "    <tr>\n",
       "      <th>4</th>\n",
       "      <td>03/06/2020</td>\n",
       "      <td>0.0</td>\n",
       "    </tr>\n",
       "  </tbody>\n",
       "</table>\n",
       "</div>"
      ],
      "text/plain": [
       "         Date  Recovered\n",
       "0  03/02/2020        0.0\n",
       "1  03/03/2020        0.0\n",
       "2  03/04/2020        0.0\n",
       "3  03/05/2020        0.0\n",
       "4  03/06/2020        0.0"
      ]
     },
     "execution_count": 49,
     "metadata": {},
     "output_type": "execute_result"
    }
   ],
   "source": [
    "recovered.head()"
   ]
  },
  {
   "cell_type": "code",
   "execution_count": 44,
   "metadata": {},
   "outputs": [
    {
     "data": {
      "application/vnd.plotly.v1+json": {
       "config": {
        "plotlyServerURL": "https://plot.ly"
       },
       "data": [
        {
         "marker": {
          "color": "blue"
         },
         "name": "Confirmed",
         "type": "bar",
         "x": [
          "03/02/2020",
          "03/03/2020",
          "03/04/2020",
          "03/05/2020",
          "03/06/2020",
          "03/07/2020",
          "03/08/2020",
          "03/09/2020",
          "03/10/2020",
          "03/11/2020",
          "03/12/2020",
          "03/13/2020",
          "03/14/2020",
          "03/15/2020",
          "03/16/2020",
          "03/17/2020",
          "03/18/2020",
          "03/19/2020",
          "03/20/2020",
          "03/21/2020",
          "03/22/2020",
          "03/23/2020",
          "03/24/2020",
          "03/25/2020",
          "03/26/2020",
          "03/27/2020",
          "03/28/2020",
          "03/29/2020",
          "03/30/2020",
          "03/31/2020",
          "04/01/2020",
          "04/02/2020",
          "04/03/2020",
          "04/04/2020",
          "04/05/2020",
          "04/06/2020",
          "04/07/2020",
          "04/08/2020",
          "04/09/2020",
          "04/10/2020",
          "04/11/2020",
          "04/12/2020",
          "04/13/2020",
          "04/14/2020",
          "04/15/2020",
          "04/16/2020",
          "04/17/2020",
          "04/18/2020",
          "04/19/2020",
          "04/20/2020",
          "04/21/2020",
          "04/22/2020",
          "04/23/2020",
          "04/24/2020",
          "04/25/2020",
          "04/26/2020",
          "04/27/2020",
          "04/28/2020",
          "04/29/2020",
          "04/30/2020",
          "05/01/2020",
          "05/02/2020",
          "05/03/2020",
          "05/04/2020",
          "05/05/2020",
          "05/06/2020",
          "05/07/2020",
          "05/08/2020",
          "05/09/2020",
          "05/10/2020",
          "05/11/2020",
          "05/12/2020",
          "05/13/2020",
          "05/14/2020",
          "05/15/2020",
          "05/16/2020",
          "05/17/2020",
          "05/18/2020",
          "05/19/2020",
          "05/20/2020",
          "05/21/2020",
          "05/22/2020",
          "05/23/2020",
          "05/24/2020",
          "05/25/2020",
          "05/26/2020",
          "05/27/2020",
          "05/28/2020",
          "05/29/2020",
          "05/30/2020",
          "05/31/2020",
          "06/01/2020",
          "06/02/2020",
          "06/03/2020",
          "06/04/2020",
          "06/05/2020",
          "06/06/2020",
          "06/07/2020",
          "06/08/2020",
          "06/09/2020",
          "06/10/2020",
          "06/11/2020",
          "06/12/2020",
          "06/13/2020",
          "06/14/2020",
          "06/15/2020",
          "06/16/2020",
          "06/17/2020",
          "06/18/2020",
          "06/19/2020",
          "06/20/2020",
          "06/21/2020",
          "06/22/2020",
          "06/23/2020",
          "06/24/2020",
          "06/25/2020",
          "06/26/2020",
          "06/27/2020",
          "06/28/2020",
          "06/29/2020",
          "06/30/2020",
          "07/01/2020",
          "07/02/2020",
          "07/03/2020",
          "07/04/2020",
          "07/05/2020",
          "07/06/2020",
          "07/07/2020",
          "07/08/2020",
          "07/09/2020",
          "07/10/2020",
          "07/11/2020",
          "07/12/2020",
          "07/13/2020",
          "07/14/2020",
          "07/15/2020",
          "07/16/2020",
          "07/17/2020",
          "07/18/2020",
          "07/19/2020",
          "07/20/2020"
         ],
         "y": [
          1,
          1,
          1,
          5,
          5,
          5,
          11,
          15,
          20,
          21,
          45,
          86,
          103,
          103,
          118,
          171,
          171,
          274,
          344,
          392,
          511,
          562,
          767,
          900,
          1012,
          1104,
          1203,
          1299,
          1453,
          1563,
          1720,
          1885,
          2039,
          2179,
          2402,
          2605,
          2795,
          2932,
          3287,
          3651,
          4033,
          4462,
          4934,
          5369,
          5862,
          6380,
          7142,
          8274,
          9362,
          10484,
          11631,
          12772,
          13930,
          15102,
          16299,
          17522,
          18811,
          20077,
          21402,
          22753,
          24097,
          25459,
          27011,
          28656,
          30251,
          31938,
          33731,
          35432,
          37136,
          39048,
          41014,
          42925,
          44830,
          46869,
          49176,
          52016,
          54752,
          57345,
          59854,
          62545,
          65077,
          67719,
          70161,
          72560,
          74795,
          76726,
          78541,
          80185,
          81766,
          83384,
          85261,
          87142,
          89011,
          91182,
          93157,
          95748,
          98869,
          101914,
          105283,
          108571,
          112288,
          116021,
          119942,
          123308,
          127541,
          132048,
          136315,
          141234,
          145991,
          150292,
          154233,
          157612,
          161005,
          164144,
          167267,
          170639,
          174577,
          178504,
          182493,
          186436,
          190823,
          194225,
          197608,
          201801,
          205929,
          209509,
          213716,
          217108,
          220144,
          223327,
          226486,
          229480,
          232259,
          235111,
          237803,
          240474,
          243238,
          245851,
          248416,
          250920,
          253349
         ]
        },
        {
         "marker": {
          "color": "Red"
         },
         "name": "Deaths",
         "type": "bar",
         "x": [
          "03/02/2020",
          "03/03/2020",
          "03/04/2020",
          "03/05/2020",
          "03/06/2020",
          "03/07/2020",
          "03/08/2020",
          "03/09/2020",
          "03/10/2020",
          "03/11/2020",
          "03/12/2020",
          "03/13/2020",
          "03/14/2020",
          "03/15/2020",
          "03/16/2020",
          "03/17/2020",
          "03/18/2020",
          "03/19/2020",
          "03/20/2020",
          "03/21/2020",
          "03/22/2020",
          "03/23/2020",
          "03/24/2020",
          "03/25/2020",
          "03/26/2020",
          "03/27/2020",
          "03/28/2020",
          "03/29/2020",
          "03/30/2020",
          "03/31/2020",
          "04/01/2020",
          "04/02/2020",
          "04/03/2020",
          "04/04/2020",
          "04/05/2020",
          "04/06/2020",
          "04/07/2020",
          "04/08/2020",
          "04/09/2020",
          "04/10/2020",
          "04/11/2020",
          "04/12/2020",
          "04/13/2020",
          "04/14/2020",
          "04/15/2020",
          "04/16/2020",
          "04/17/2020",
          "04/18/2020",
          "04/19/2020",
          "04/20/2020",
          "04/21/2020",
          "04/22/2020",
          "04/23/2020",
          "04/24/2020",
          "04/25/2020",
          "04/26/2020",
          "04/27/2020",
          "04/28/2020",
          "04/29/2020",
          "04/30/2020",
          "05/01/2020",
          "05/02/2020",
          "05/03/2020",
          "05/04/2020",
          "05/05/2020",
          "05/06/2020",
          "05/07/2020",
          "05/08/2020",
          "05/09/2020",
          "05/10/2020",
          "05/11/2020",
          "05/12/2020",
          "05/13/2020",
          "05/14/2020",
          "05/15/2020",
          "05/16/2020",
          "05/17/2020",
          "05/18/2020",
          "05/19/2020",
          "05/20/2020",
          "05/21/2020",
          "05/22/2020",
          "05/23/2020",
          "05/24/2020",
          "05/25/2020",
          "05/26/2020",
          "05/27/2020",
          "05/28/2020",
          "05/29/2020",
          "05/30/2020",
          "05/31/2020",
          "06/01/2020",
          "06/02/2020",
          "06/03/2020",
          "06/04/2020",
          "06/05/2020",
          "06/06/2020",
          "06/07/2020",
          "06/08/2020",
          "06/09/2020",
          "06/10/2020",
          "06/11/2020",
          "06/12/2020",
          "06/13/2020",
          "06/14/2020",
          "06/15/2020",
          "06/16/2020",
          "06/17/2020",
          "06/18/2020",
          "06/19/2020",
          "06/20/2020",
          "06/21/2020",
          "06/22/2020",
          "06/23/2020",
          "06/24/2020",
          "06/25/2020",
          "06/26/2020",
          "06/27/2020",
          "06/28/2020",
          "06/29/2020",
          "06/30/2020",
          "07/01/2020",
          "07/02/2020",
          "07/03/2020",
          "07/04/2020",
          "07/05/2020",
          "07/06/2020",
          "07/07/2020",
          "07/08/2020",
          "07/09/2020",
          "07/10/2020",
          "07/11/2020",
          "07/12/2020",
          "07/13/2020",
          "07/14/2020",
          "07/15/2020",
          "07/16/2020",
          "07/17/2020",
          "07/18/2020",
          "07/19/2020",
          "07/20/2020"
         ],
         "y": [
          0,
          0,
          0,
          0,
          0,
          0,
          0,
          0,
          0,
          0,
          0,
          0,
          0,
          0,
          0,
          0,
          0,
          0,
          0,
          0,
          0,
          0,
          1,
          2,
          3,
          3,
          4,
          8,
          8,
          10,
          16,
          21,
          25,
          29,
          34,
          38,
          41,
          41,
          44,
          47,
          52,
          59,
          65,
          73,
          79,
          83,
          87,
          92,
          97,
          103,
          109,
          114,
          121,
          127,
          136,
          139,
          144,
          152,
          157,
          162,
          169,
          176,
          184,
          191,
          200,
          209,
          219,
          229,
          239,
          246,
          255,
          264,
          273,
          283,
          292,
          302,
          312,
          320,
          329,
          339,
          351,
          364,
          379,
          390,
          399,
          411,
          425,
          441,
          458,
          480,
          503,
          525,
          549,
          579,
          611,
          642,
          676,
          712,
          746,
          783,
          819,
          857,
          893,
          932,
          972,
          1011,
          1052,
          1091,
          1139,
          1184,
          1230,
          1267,
          1307,
          1346,
          1387,
          1428,
          1474,
          1511,
          1551,
          1599,
          1649,
          1698,
          1752,
          1802,
          1858,
          1916,
          1968,
          2017,
          2059,
          2100,
          2151,
          2181,
          2223,
          2243,
          2283,
          2325,
          2370,
          2407,
          2447,
          2486,
          2523
         ]
        },
        {
         "marker": {
          "color": "Green"
         },
         "name": "Recovered",
         "type": "bar",
         "x": [
          "03/02/2020",
          "03/03/2020",
          "03/04/2020",
          "03/05/2020",
          "03/06/2020",
          "03/07/2020",
          "03/08/2020",
          "03/09/2020",
          "03/10/2020",
          "03/11/2020",
          "03/12/2020",
          "03/13/2020",
          "03/14/2020",
          "03/15/2020",
          "03/16/2020",
          "03/17/2020",
          "03/18/2020",
          "03/19/2020",
          "03/20/2020",
          "03/21/2020",
          "03/22/2020",
          "03/23/2020",
          "03/24/2020",
          "03/25/2020",
          "03/26/2020",
          "03/27/2020",
          "03/28/2020",
          "03/29/2020",
          "03/30/2020",
          "03/31/2020",
          "04/01/2020",
          "04/02/2020",
          "04/03/2020",
          "04/04/2020",
          "04/05/2020",
          "04/06/2020",
          "04/07/2020",
          "04/08/2020",
          "04/09/2020",
          "04/10/2020",
          "04/11/2020",
          "04/12/2020",
          "04/13/2020",
          "04/14/2020",
          "04/15/2020",
          "04/16/2020",
          "04/17/2020",
          "04/18/2020",
          "04/19/2020",
          "04/20/2020",
          "04/21/2020",
          "04/22/2020",
          "04/23/2020",
          "04/24/2020",
          "04/25/2020",
          "04/26/2020",
          "04/27/2020",
          "04/28/2020",
          "04/29/2020",
          "04/30/2020",
          "05/01/2020",
          "05/02/2020",
          "05/03/2020",
          "05/04/2020",
          "05/05/2020",
          "05/06/2020",
          "05/07/2020",
          "05/08/2020",
          "05/09/2020",
          "05/10/2020",
          "05/11/2020",
          "05/12/2020",
          "05/13/2020",
          "05/14/2020",
          "05/15/2020",
          "05/16/2020",
          "05/17/2020",
          "05/18/2020",
          "05/19/2020",
          "05/20/2020",
          "05/21/2020",
          "05/22/2020",
          "05/23/2020",
          "05/24/2020",
          "05/25/2020",
          "05/26/2020",
          "05/27/2020",
          "05/28/2020",
          "05/29/2020",
          "05/30/2020",
          "05/31/2020",
          "06/01/2020",
          "06/02/2020",
          "06/03/2020",
          "06/04/2020",
          "06/05/2020",
          "06/06/2020",
          "06/07/2020",
          "06/08/2020",
          "06/09/2020",
          "06/10/2020",
          "06/11/2020",
          "06/12/2020",
          "06/13/2020",
          "06/14/2020",
          "06/15/2020",
          "06/16/2020",
          "06/17/2020",
          "06/18/2020",
          "06/19/2020",
          "06/20/2020",
          "06/21/2020",
          "06/22/2020",
          "06/23/2020",
          "06/24/2020",
          "06/25/2020",
          "06/26/2020",
          "06/27/2020",
          "06/28/2020",
          "06/29/2020",
          "06/30/2020",
          "07/01/2020",
          "07/02/2020",
          "07/03/2020",
          "07/04/2020",
          "07/05/2020",
          "07/06/2020",
          "07/07/2020",
          "07/08/2020",
          "07/09/2020",
          "07/10/2020",
          "07/11/2020",
          "07/12/2020",
          "07/13/2020",
          "07/14/2020",
          "07/15/2020",
          "07/16/2020",
          "07/17/2020",
          "07/18/2020",
          "07/19/2020",
          "07/20/2020"
         ],
         "y": [
          0,
          0,
          0,
          0,
          0,
          0,
          0,
          0,
          1,
          1,
          1,
          1,
          1,
          1,
          2,
          6,
          6,
          6,
          8,
          16,
          17,
          19,
          28,
          29,
          33,
          35,
          37,
          66,
          115,
          165,
          264,
          328,
          351,
          420,
          488,
          551,
          615,
          631,
          666,
          685,
          720,
          761,
          805,
          889,
          931,
          990,
          1049,
          1329,
          1398,
          1490,
          1640,
          1812,
          1925,
          2049,
          2215,
          2357,
          2531,
          2784,
          2953,
          3163,
          3555,
          3765,
          4134,
          4476,
          5431,
          6783,
          7798,
          9120,
          10144,
          11457,
          12737,
          15257,
          17622,
          19051,
          21869,
          23666,
          25722,
          28748,
          31634,
          33478,
          36040,
          39003,
          41236,
          43520,
          45668,
          48450,
          51022,
          54553,
          57013,
          58883,
          62442,
          64306,
          65790,
          68159,
          68965,
          70616,
          71791,
          72817,
          74524,
          76339,
          77954,
          80019,
          81029,
          82548,
          84720,
          87890,
          89540,
          91662,
          93915,
          95764,
          98917,
          101130,
          105175,
          109885,
          112797,
          117882,
          120471,
          122128,
          124755,
          127118,
          130766,
          132760,
          137669,
          140614,
          143256,
          145236,
          149634,
          154839,
          158050,
          161096,
          163026,
          165396,
          167138,
          169842,
          177560,
          183048,
          187622,
          191161,
          194218,
          197735,
          203259
         ]
        }
       ],
       "layout": {
        "bargap": 0.15,
        "bargroupgap": 0.1,
        "barmode": "group",
        "legend": {
         "bgcolor": "rgba(255, 255, 255, 0)",
         "bordercolor": "rgba(255, 255, 255, 0)",
         "x": 0,
         "y": 1
        },
        "template": {
         "data": {
          "bar": [
           {
            "error_x": {
             "color": "#2a3f5f"
            },
            "error_y": {
             "color": "#2a3f5f"
            },
            "marker": {
             "line": {
              "color": "#E5ECF6",
              "width": 0.5
             }
            },
            "type": "bar"
           }
          ],
          "barpolar": [
           {
            "marker": {
             "line": {
              "color": "#E5ECF6",
              "width": 0.5
             }
            },
            "type": "barpolar"
           }
          ],
          "carpet": [
           {
            "aaxis": {
             "endlinecolor": "#2a3f5f",
             "gridcolor": "white",
             "linecolor": "white",
             "minorgridcolor": "white",
             "startlinecolor": "#2a3f5f"
            },
            "baxis": {
             "endlinecolor": "#2a3f5f",
             "gridcolor": "white",
             "linecolor": "white",
             "minorgridcolor": "white",
             "startlinecolor": "#2a3f5f"
            },
            "type": "carpet"
           }
          ],
          "choropleth": [
           {
            "colorbar": {
             "outlinewidth": 0,
             "ticks": ""
            },
            "type": "choropleth"
           }
          ],
          "contour": [
           {
            "colorbar": {
             "outlinewidth": 0,
             "ticks": ""
            },
            "colorscale": [
             [
              0,
              "#0d0887"
             ],
             [
              0.1111111111111111,
              "#46039f"
             ],
             [
              0.2222222222222222,
              "#7201a8"
             ],
             [
              0.3333333333333333,
              "#9c179e"
             ],
             [
              0.4444444444444444,
              "#bd3786"
             ],
             [
              0.5555555555555556,
              "#d8576b"
             ],
             [
              0.6666666666666666,
              "#ed7953"
             ],
             [
              0.7777777777777778,
              "#fb9f3a"
             ],
             [
              0.8888888888888888,
              "#fdca26"
             ],
             [
              1,
              "#f0f921"
             ]
            ],
            "type": "contour"
           }
          ],
          "contourcarpet": [
           {
            "colorbar": {
             "outlinewidth": 0,
             "ticks": ""
            },
            "type": "contourcarpet"
           }
          ],
          "heatmap": [
           {
            "colorbar": {
             "outlinewidth": 0,
             "ticks": ""
            },
            "colorscale": [
             [
              0,
              "#0d0887"
             ],
             [
              0.1111111111111111,
              "#46039f"
             ],
             [
              0.2222222222222222,
              "#7201a8"
             ],
             [
              0.3333333333333333,
              "#9c179e"
             ],
             [
              0.4444444444444444,
              "#bd3786"
             ],
             [
              0.5555555555555556,
              "#d8576b"
             ],
             [
              0.6666666666666666,
              "#ed7953"
             ],
             [
              0.7777777777777778,
              "#fb9f3a"
             ],
             [
              0.8888888888888888,
              "#fdca26"
             ],
             [
              1,
              "#f0f921"
             ]
            ],
            "type": "heatmap"
           }
          ],
          "heatmapgl": [
           {
            "colorbar": {
             "outlinewidth": 0,
             "ticks": ""
            },
            "colorscale": [
             [
              0,
              "#0d0887"
             ],
             [
              0.1111111111111111,
              "#46039f"
             ],
             [
              0.2222222222222222,
              "#7201a8"
             ],
             [
              0.3333333333333333,
              "#9c179e"
             ],
             [
              0.4444444444444444,
              "#bd3786"
             ],
             [
              0.5555555555555556,
              "#d8576b"
             ],
             [
              0.6666666666666666,
              "#ed7953"
             ],
             [
              0.7777777777777778,
              "#fb9f3a"
             ],
             [
              0.8888888888888888,
              "#fdca26"
             ],
             [
              1,
              "#f0f921"
             ]
            ],
            "type": "heatmapgl"
           }
          ],
          "histogram": [
           {
            "marker": {
             "colorbar": {
              "outlinewidth": 0,
              "ticks": ""
             }
            },
            "type": "histogram"
           }
          ],
          "histogram2d": [
           {
            "colorbar": {
             "outlinewidth": 0,
             "ticks": ""
            },
            "colorscale": [
             [
              0,
              "#0d0887"
             ],
             [
              0.1111111111111111,
              "#46039f"
             ],
             [
              0.2222222222222222,
              "#7201a8"
             ],
             [
              0.3333333333333333,
              "#9c179e"
             ],
             [
              0.4444444444444444,
              "#bd3786"
             ],
             [
              0.5555555555555556,
              "#d8576b"
             ],
             [
              0.6666666666666666,
              "#ed7953"
             ],
             [
              0.7777777777777778,
              "#fb9f3a"
             ],
             [
              0.8888888888888888,
              "#fdca26"
             ],
             [
              1,
              "#f0f921"
             ]
            ],
            "type": "histogram2d"
           }
          ],
          "histogram2dcontour": [
           {
            "colorbar": {
             "outlinewidth": 0,
             "ticks": ""
            },
            "colorscale": [
             [
              0,
              "#0d0887"
             ],
             [
              0.1111111111111111,
              "#46039f"
             ],
             [
              0.2222222222222222,
              "#7201a8"
             ],
             [
              0.3333333333333333,
              "#9c179e"
             ],
             [
              0.4444444444444444,
              "#bd3786"
             ],
             [
              0.5555555555555556,
              "#d8576b"
             ],
             [
              0.6666666666666666,
              "#ed7953"
             ],
             [
              0.7777777777777778,
              "#fb9f3a"
             ],
             [
              0.8888888888888888,
              "#fdca26"
             ],
             [
              1,
              "#f0f921"
             ]
            ],
            "type": "histogram2dcontour"
           }
          ],
          "mesh3d": [
           {
            "colorbar": {
             "outlinewidth": 0,
             "ticks": ""
            },
            "type": "mesh3d"
           }
          ],
          "parcoords": [
           {
            "line": {
             "colorbar": {
              "outlinewidth": 0,
              "ticks": ""
             }
            },
            "type": "parcoords"
           }
          ],
          "pie": [
           {
            "automargin": true,
            "type": "pie"
           }
          ],
          "scatter": [
           {
            "marker": {
             "colorbar": {
              "outlinewidth": 0,
              "ticks": ""
             }
            },
            "type": "scatter"
           }
          ],
          "scatter3d": [
           {
            "line": {
             "colorbar": {
              "outlinewidth": 0,
              "ticks": ""
             }
            },
            "marker": {
             "colorbar": {
              "outlinewidth": 0,
              "ticks": ""
             }
            },
            "type": "scatter3d"
           }
          ],
          "scattercarpet": [
           {
            "marker": {
             "colorbar": {
              "outlinewidth": 0,
              "ticks": ""
             }
            },
            "type": "scattercarpet"
           }
          ],
          "scattergeo": [
           {
            "marker": {
             "colorbar": {
              "outlinewidth": 0,
              "ticks": ""
             }
            },
            "type": "scattergeo"
           }
          ],
          "scattergl": [
           {
            "marker": {
             "colorbar": {
              "outlinewidth": 0,
              "ticks": ""
             }
            },
            "type": "scattergl"
           }
          ],
          "scattermapbox": [
           {
            "marker": {
             "colorbar": {
              "outlinewidth": 0,
              "ticks": ""
             }
            },
            "type": "scattermapbox"
           }
          ],
          "scatterpolar": [
           {
            "marker": {
             "colorbar": {
              "outlinewidth": 0,
              "ticks": ""
             }
            },
            "type": "scatterpolar"
           }
          ],
          "scatterpolargl": [
           {
            "marker": {
             "colorbar": {
              "outlinewidth": 0,
              "ticks": ""
             }
            },
            "type": "scatterpolargl"
           }
          ],
          "scatterternary": [
           {
            "marker": {
             "colorbar": {
              "outlinewidth": 0,
              "ticks": ""
             }
            },
            "type": "scatterternary"
           }
          ],
          "surface": [
           {
            "colorbar": {
             "outlinewidth": 0,
             "ticks": ""
            },
            "colorscale": [
             [
              0,
              "#0d0887"
             ],
             [
              0.1111111111111111,
              "#46039f"
             ],
             [
              0.2222222222222222,
              "#7201a8"
             ],
             [
              0.3333333333333333,
              "#9c179e"
             ],
             [
              0.4444444444444444,
              "#bd3786"
             ],
             [
              0.5555555555555556,
              "#d8576b"
             ],
             [
              0.6666666666666666,
              "#ed7953"
             ],
             [
              0.7777777777777778,
              "#fb9f3a"
             ],
             [
              0.8888888888888888,
              "#fdca26"
             ],
             [
              1,
              "#f0f921"
             ]
            ],
            "type": "surface"
           }
          ],
          "table": [
           {
            "cells": {
             "fill": {
              "color": "#EBF0F8"
             },
             "line": {
              "color": "white"
             }
            },
            "header": {
             "fill": {
              "color": "#C8D4E3"
             },
             "line": {
              "color": "white"
             }
            },
            "type": "table"
           }
          ]
         },
         "layout": {
          "annotationdefaults": {
           "arrowcolor": "#2a3f5f",
           "arrowhead": 0,
           "arrowwidth": 1
          },
          "coloraxis": {
           "colorbar": {
            "outlinewidth": 0,
            "ticks": ""
           }
          },
          "colorscale": {
           "diverging": [
            [
             0,
             "#8e0152"
            ],
            [
             0.1,
             "#c51b7d"
            ],
            [
             0.2,
             "#de77ae"
            ],
            [
             0.3,
             "#f1b6da"
            ],
            [
             0.4,
             "#fde0ef"
            ],
            [
             0.5,
             "#f7f7f7"
            ],
            [
             0.6,
             "#e6f5d0"
            ],
            [
             0.7,
             "#b8e186"
            ],
            [
             0.8,
             "#7fbc41"
            ],
            [
             0.9,
             "#4d9221"
            ],
            [
             1,
             "#276419"
            ]
           ],
           "sequential": [
            [
             0,
             "#0d0887"
            ],
            [
             0.1111111111111111,
             "#46039f"
            ],
            [
             0.2222222222222222,
             "#7201a8"
            ],
            [
             0.3333333333333333,
             "#9c179e"
            ],
            [
             0.4444444444444444,
             "#bd3786"
            ],
            [
             0.5555555555555556,
             "#d8576b"
            ],
            [
             0.6666666666666666,
             "#ed7953"
            ],
            [
             0.7777777777777778,
             "#fb9f3a"
            ],
            [
             0.8888888888888888,
             "#fdca26"
            ],
            [
             1,
             "#f0f921"
            ]
           ],
           "sequentialminus": [
            [
             0,
             "#0d0887"
            ],
            [
             0.1111111111111111,
             "#46039f"
            ],
            [
             0.2222222222222222,
             "#7201a8"
            ],
            [
             0.3333333333333333,
             "#9c179e"
            ],
            [
             0.4444444444444444,
             "#bd3786"
            ],
            [
             0.5555555555555556,
             "#d8576b"
            ],
            [
             0.6666666666666666,
             "#ed7953"
            ],
            [
             0.7777777777777778,
             "#fb9f3a"
            ],
            [
             0.8888888888888888,
             "#fdca26"
            ],
            [
             1,
             "#f0f921"
            ]
           ]
          },
          "colorway": [
           "#636efa",
           "#EF553B",
           "#00cc96",
           "#ab63fa",
           "#FFA15A",
           "#19d3f3",
           "#FF6692",
           "#B6E880",
           "#FF97FF",
           "#FECB52"
          ],
          "font": {
           "color": "#2a3f5f"
          },
          "geo": {
           "bgcolor": "white",
           "lakecolor": "white",
           "landcolor": "#E5ECF6",
           "showlakes": true,
           "showland": true,
           "subunitcolor": "white"
          },
          "hoverlabel": {
           "align": "left"
          },
          "hovermode": "closest",
          "mapbox": {
           "style": "light"
          },
          "paper_bgcolor": "white",
          "plot_bgcolor": "#E5ECF6",
          "polar": {
           "angularaxis": {
            "gridcolor": "white",
            "linecolor": "white",
            "ticks": ""
           },
           "bgcolor": "#E5ECF6",
           "radialaxis": {
            "gridcolor": "white",
            "linecolor": "white",
            "ticks": ""
           }
          },
          "scene": {
           "xaxis": {
            "backgroundcolor": "#E5ECF6",
            "gridcolor": "white",
            "gridwidth": 2,
            "linecolor": "white",
            "showbackground": true,
            "ticks": "",
            "zerolinecolor": "white"
           },
           "yaxis": {
            "backgroundcolor": "#E5ECF6",
            "gridcolor": "white",
            "gridwidth": 2,
            "linecolor": "white",
            "showbackground": true,
            "ticks": "",
            "zerolinecolor": "white"
           },
           "zaxis": {
            "backgroundcolor": "#E5ECF6",
            "gridcolor": "white",
            "gridwidth": 2,
            "linecolor": "white",
            "showbackground": true,
            "ticks": "",
            "zerolinecolor": "white"
           }
          },
          "shapedefaults": {
           "line": {
            "color": "#2a3f5f"
           }
          },
          "ternary": {
           "aaxis": {
            "gridcolor": "white",
            "linecolor": "white",
            "ticks": ""
           },
           "baxis": {
            "gridcolor": "white",
            "linecolor": "white",
            "ticks": ""
           },
           "bgcolor": "#E5ECF6",
           "caxis": {
            "gridcolor": "white",
            "linecolor": "white",
            "ticks": ""
           }
          },
          "title": {
           "x": 0.05
          },
          "xaxis": {
           "automargin": true,
           "gridcolor": "white",
           "linecolor": "white",
           "ticks": "",
           "title": {
            "standoff": 15
           },
           "zerolinecolor": "white",
           "zerolinewidth": 2
          },
          "yaxis": {
           "automargin": true,
           "gridcolor": "white",
           "linecolor": "white",
           "ticks": "",
           "title": {
            "standoff": 15
           },
           "zerolinecolor": "white",
           "zerolinewidth": 2
          }
         }
        },
        "title": {
         "text": "Saudi Arabia Corona Virus Cases - Confirmed, Deaths, Recovered (Bar Chart)"
        },
        "xaxis": {
         "tickfont": {
          "size": 14
         }
        },
        "yaxis": {
         "tickfont": {
          "size": 14
         },
         "title": {
          "font": {
           "size": 16
          },
          "text": "Number of Cases"
         }
        }
       }
      },
      "text/html": [
       "<div>\n",
       "        \n",
       "        \n",
       "            <div id=\"f3212991-3454-42e7-8310-2c439da5f435\" class=\"plotly-graph-div\" style=\"height:525px; width:100%;\"></div>\n",
       "            <script type=\"text/javascript\">\n",
       "                require([\"plotly\"], function(Plotly) {\n",
       "                    window.PLOTLYENV=window.PLOTLYENV || {};\n",
       "                    \n",
       "                if (document.getElementById(\"f3212991-3454-42e7-8310-2c439da5f435\")) {\n",
       "                    Plotly.newPlot(\n",
       "                        'f3212991-3454-42e7-8310-2c439da5f435',\n",
       "                        [{\"marker\": {\"color\": \"blue\"}, \"name\": \"Confirmed\", \"type\": \"bar\", \"x\": [\"03/02/2020\", \"03/03/2020\", \"03/04/2020\", \"03/05/2020\", \"03/06/2020\", \"03/07/2020\", \"03/08/2020\", \"03/09/2020\", \"03/10/2020\", \"03/11/2020\", \"03/12/2020\", \"03/13/2020\", \"03/14/2020\", \"03/15/2020\", \"03/16/2020\", \"03/17/2020\", \"03/18/2020\", \"03/19/2020\", \"03/20/2020\", \"03/21/2020\", \"03/22/2020\", \"03/23/2020\", \"03/24/2020\", \"03/25/2020\", \"03/26/2020\", \"03/27/2020\", \"03/28/2020\", \"03/29/2020\", \"03/30/2020\", \"03/31/2020\", \"04/01/2020\", \"04/02/2020\", \"04/03/2020\", \"04/04/2020\", \"04/05/2020\", \"04/06/2020\", \"04/07/2020\", \"04/08/2020\", \"04/09/2020\", \"04/10/2020\", \"04/11/2020\", \"04/12/2020\", \"04/13/2020\", \"04/14/2020\", \"04/15/2020\", \"04/16/2020\", \"04/17/2020\", \"04/18/2020\", \"04/19/2020\", \"04/20/2020\", \"04/21/2020\", \"04/22/2020\", \"04/23/2020\", \"04/24/2020\", \"04/25/2020\", \"04/26/2020\", \"04/27/2020\", \"04/28/2020\", \"04/29/2020\", \"04/30/2020\", \"05/01/2020\", \"05/02/2020\", \"05/03/2020\", \"05/04/2020\", \"05/05/2020\", \"05/06/2020\", \"05/07/2020\", \"05/08/2020\", \"05/09/2020\", \"05/10/2020\", \"05/11/2020\", \"05/12/2020\", \"05/13/2020\", \"05/14/2020\", \"05/15/2020\", \"05/16/2020\", \"05/17/2020\", \"05/18/2020\", \"05/19/2020\", \"05/20/2020\", \"05/21/2020\", \"05/22/2020\", \"05/23/2020\", \"05/24/2020\", \"05/25/2020\", \"05/26/2020\", \"05/27/2020\", \"05/28/2020\", \"05/29/2020\", \"05/30/2020\", \"05/31/2020\", \"06/01/2020\", \"06/02/2020\", \"06/03/2020\", \"06/04/2020\", \"06/05/2020\", \"06/06/2020\", \"06/07/2020\", \"06/08/2020\", \"06/09/2020\", \"06/10/2020\", \"06/11/2020\", \"06/12/2020\", \"06/13/2020\", \"06/14/2020\", \"06/15/2020\", \"06/16/2020\", \"06/17/2020\", \"06/18/2020\", \"06/19/2020\", \"06/20/2020\", \"06/21/2020\", \"06/22/2020\", \"06/23/2020\", \"06/24/2020\", \"06/25/2020\", \"06/26/2020\", \"06/27/2020\", \"06/28/2020\", \"06/29/2020\", \"06/30/2020\", \"07/01/2020\", \"07/02/2020\", \"07/03/2020\", \"07/04/2020\", \"07/05/2020\", \"07/06/2020\", \"07/07/2020\", \"07/08/2020\", \"07/09/2020\", \"07/10/2020\", \"07/11/2020\", \"07/12/2020\", \"07/13/2020\", \"07/14/2020\", \"07/15/2020\", \"07/16/2020\", \"07/17/2020\", \"07/18/2020\", \"07/19/2020\", \"07/20/2020\"], \"y\": [1.0, 1.0, 1.0, 5.0, 5.0, 5.0, 11.0, 15.0, 20.0, 21.0, 45.0, 86.0, 103.0, 103.0, 118.0, 171.0, 171.0, 274.0, 344.0, 392.0, 511.0, 562.0, 767.0, 900.0, 1012.0, 1104.0, 1203.0, 1299.0, 1453.0, 1563.0, 1720.0, 1885.0, 2039.0, 2179.0, 2402.0, 2605.0, 2795.0, 2932.0, 3287.0, 3651.0, 4033.0, 4462.0, 4934.0, 5369.0, 5862.0, 6380.0, 7142.0, 8274.0, 9362.0, 10484.0, 11631.0, 12772.0, 13930.0, 15102.0, 16299.0, 17522.0, 18811.0, 20077.0, 21402.0, 22753.0, 24097.0, 25459.0, 27011.0, 28656.0, 30251.0, 31938.0, 33731.0, 35432.0, 37136.0, 39048.0, 41014.0, 42925.0, 44830.0, 46869.0, 49176.0, 52016.0, 54752.0, 57345.0, 59854.0, 62545.0, 65077.0, 67719.0, 70161.0, 72560.0, 74795.0, 76726.0, 78541.0, 80185.0, 81766.0, 83384.0, 85261.0, 87142.0, 89011.0, 91182.0, 93157.0, 95748.0, 98869.0, 101914.0, 105283.0, 108571.0, 112288.0, 116021.0, 119942.0, 123308.0, 127541.0, 132048.0, 136315.0, 141234.0, 145991.0, 150292.0, 154233.0, 157612.0, 161005.0, 164144.0, 167267.0, 170639.0, 174577.0, 178504.0, 182493.0, 186436.0, 190823.0, 194225.0, 197608.0, 201801.0, 205929.0, 209509.0, 213716.0, 217108.0, 220144.0, 223327.0, 226486.0, 229480.0, 232259.0, 235111.0, 237803.0, 240474.0, 243238.0, 245851.0, 248416.0, 250920.0, 253349.0]}, {\"marker\": {\"color\": \"Red\"}, \"name\": \"Deaths\", \"type\": \"bar\", \"x\": [\"03/02/2020\", \"03/03/2020\", \"03/04/2020\", \"03/05/2020\", \"03/06/2020\", \"03/07/2020\", \"03/08/2020\", \"03/09/2020\", \"03/10/2020\", \"03/11/2020\", \"03/12/2020\", \"03/13/2020\", \"03/14/2020\", \"03/15/2020\", \"03/16/2020\", \"03/17/2020\", \"03/18/2020\", \"03/19/2020\", \"03/20/2020\", \"03/21/2020\", \"03/22/2020\", \"03/23/2020\", \"03/24/2020\", \"03/25/2020\", \"03/26/2020\", \"03/27/2020\", \"03/28/2020\", \"03/29/2020\", \"03/30/2020\", \"03/31/2020\", \"04/01/2020\", \"04/02/2020\", \"04/03/2020\", \"04/04/2020\", \"04/05/2020\", \"04/06/2020\", \"04/07/2020\", \"04/08/2020\", \"04/09/2020\", \"04/10/2020\", \"04/11/2020\", \"04/12/2020\", \"04/13/2020\", \"04/14/2020\", \"04/15/2020\", \"04/16/2020\", \"04/17/2020\", \"04/18/2020\", \"04/19/2020\", \"04/20/2020\", \"04/21/2020\", \"04/22/2020\", \"04/23/2020\", \"04/24/2020\", \"04/25/2020\", \"04/26/2020\", \"04/27/2020\", \"04/28/2020\", \"04/29/2020\", \"04/30/2020\", \"05/01/2020\", \"05/02/2020\", \"05/03/2020\", \"05/04/2020\", \"05/05/2020\", \"05/06/2020\", \"05/07/2020\", \"05/08/2020\", \"05/09/2020\", \"05/10/2020\", \"05/11/2020\", \"05/12/2020\", \"05/13/2020\", \"05/14/2020\", \"05/15/2020\", \"05/16/2020\", \"05/17/2020\", \"05/18/2020\", \"05/19/2020\", \"05/20/2020\", \"05/21/2020\", \"05/22/2020\", \"05/23/2020\", \"05/24/2020\", \"05/25/2020\", \"05/26/2020\", \"05/27/2020\", \"05/28/2020\", \"05/29/2020\", \"05/30/2020\", \"05/31/2020\", \"06/01/2020\", \"06/02/2020\", \"06/03/2020\", \"06/04/2020\", \"06/05/2020\", \"06/06/2020\", \"06/07/2020\", \"06/08/2020\", \"06/09/2020\", \"06/10/2020\", \"06/11/2020\", \"06/12/2020\", \"06/13/2020\", \"06/14/2020\", \"06/15/2020\", \"06/16/2020\", \"06/17/2020\", \"06/18/2020\", \"06/19/2020\", \"06/20/2020\", \"06/21/2020\", \"06/22/2020\", \"06/23/2020\", \"06/24/2020\", \"06/25/2020\", \"06/26/2020\", \"06/27/2020\", \"06/28/2020\", \"06/29/2020\", \"06/30/2020\", \"07/01/2020\", \"07/02/2020\", \"07/03/2020\", \"07/04/2020\", \"07/05/2020\", \"07/06/2020\", \"07/07/2020\", \"07/08/2020\", \"07/09/2020\", \"07/10/2020\", \"07/11/2020\", \"07/12/2020\", \"07/13/2020\", \"07/14/2020\", \"07/15/2020\", \"07/16/2020\", \"07/17/2020\", \"07/18/2020\", \"07/19/2020\", \"07/20/2020\"], \"y\": [0.0, 0.0, 0.0, 0.0, 0.0, 0.0, 0.0, 0.0, 0.0, 0.0, 0.0, 0.0, 0.0, 0.0, 0.0, 0.0, 0.0, 0.0, 0.0, 0.0, 0.0, 0.0, 1.0, 2.0, 3.0, 3.0, 4.0, 8.0, 8.0, 10.0, 16.0, 21.0, 25.0, 29.0, 34.0, 38.0, 41.0, 41.0, 44.0, 47.0, 52.0, 59.0, 65.0, 73.0, 79.0, 83.0, 87.0, 92.0, 97.0, 103.0, 109.0, 114.0, 121.0, 127.0, 136.0, 139.0, 144.0, 152.0, 157.0, 162.0, 169.0, 176.0, 184.0, 191.0, 200.0, 209.0, 219.0, 229.0, 239.0, 246.0, 255.0, 264.0, 273.0, 283.0, 292.0, 302.0, 312.0, 320.0, 329.0, 339.0, 351.0, 364.0, 379.0, 390.0, 399.0, 411.0, 425.0, 441.0, 458.0, 480.0, 503.0, 525.0, 549.0, 579.0, 611.0, 642.0, 676.0, 712.0, 746.0, 783.0, 819.0, 857.0, 893.0, 932.0, 972.0, 1011.0, 1052.0, 1091.0, 1139.0, 1184.0, 1230.0, 1267.0, 1307.0, 1346.0, 1387.0, 1428.0, 1474.0, 1511.0, 1551.0, 1599.0, 1649.0, 1698.0, 1752.0, 1802.0, 1858.0, 1916.0, 1968.0, 2017.0, 2059.0, 2100.0, 2151.0, 2181.0, 2223.0, 2243.0, 2283.0, 2325.0, 2370.0, 2407.0, 2447.0, 2486.0, 2523.0]}, {\"marker\": {\"color\": \"Green\"}, \"name\": \"Recovered\", \"type\": \"bar\", \"x\": [\"03/02/2020\", \"03/03/2020\", \"03/04/2020\", \"03/05/2020\", \"03/06/2020\", \"03/07/2020\", \"03/08/2020\", \"03/09/2020\", \"03/10/2020\", \"03/11/2020\", \"03/12/2020\", \"03/13/2020\", \"03/14/2020\", \"03/15/2020\", \"03/16/2020\", \"03/17/2020\", \"03/18/2020\", \"03/19/2020\", \"03/20/2020\", \"03/21/2020\", \"03/22/2020\", \"03/23/2020\", \"03/24/2020\", \"03/25/2020\", \"03/26/2020\", \"03/27/2020\", \"03/28/2020\", \"03/29/2020\", \"03/30/2020\", \"03/31/2020\", \"04/01/2020\", \"04/02/2020\", \"04/03/2020\", \"04/04/2020\", \"04/05/2020\", \"04/06/2020\", \"04/07/2020\", \"04/08/2020\", \"04/09/2020\", \"04/10/2020\", \"04/11/2020\", \"04/12/2020\", \"04/13/2020\", \"04/14/2020\", \"04/15/2020\", \"04/16/2020\", \"04/17/2020\", \"04/18/2020\", \"04/19/2020\", \"04/20/2020\", \"04/21/2020\", \"04/22/2020\", \"04/23/2020\", \"04/24/2020\", \"04/25/2020\", \"04/26/2020\", \"04/27/2020\", \"04/28/2020\", \"04/29/2020\", \"04/30/2020\", \"05/01/2020\", \"05/02/2020\", \"05/03/2020\", \"05/04/2020\", \"05/05/2020\", \"05/06/2020\", \"05/07/2020\", \"05/08/2020\", \"05/09/2020\", \"05/10/2020\", \"05/11/2020\", \"05/12/2020\", \"05/13/2020\", \"05/14/2020\", \"05/15/2020\", \"05/16/2020\", \"05/17/2020\", \"05/18/2020\", \"05/19/2020\", \"05/20/2020\", \"05/21/2020\", \"05/22/2020\", \"05/23/2020\", \"05/24/2020\", \"05/25/2020\", \"05/26/2020\", \"05/27/2020\", \"05/28/2020\", \"05/29/2020\", \"05/30/2020\", \"05/31/2020\", \"06/01/2020\", \"06/02/2020\", \"06/03/2020\", \"06/04/2020\", \"06/05/2020\", \"06/06/2020\", \"06/07/2020\", \"06/08/2020\", \"06/09/2020\", \"06/10/2020\", \"06/11/2020\", \"06/12/2020\", \"06/13/2020\", \"06/14/2020\", \"06/15/2020\", \"06/16/2020\", \"06/17/2020\", \"06/18/2020\", \"06/19/2020\", \"06/20/2020\", \"06/21/2020\", \"06/22/2020\", \"06/23/2020\", \"06/24/2020\", \"06/25/2020\", \"06/26/2020\", \"06/27/2020\", \"06/28/2020\", \"06/29/2020\", \"06/30/2020\", \"07/01/2020\", \"07/02/2020\", \"07/03/2020\", \"07/04/2020\", \"07/05/2020\", \"07/06/2020\", \"07/07/2020\", \"07/08/2020\", \"07/09/2020\", \"07/10/2020\", \"07/11/2020\", \"07/12/2020\", \"07/13/2020\", \"07/14/2020\", \"07/15/2020\", \"07/16/2020\", \"07/17/2020\", \"07/18/2020\", \"07/19/2020\", \"07/20/2020\"], \"y\": [0.0, 0.0, 0.0, 0.0, 0.0, 0.0, 0.0, 0.0, 1.0, 1.0, 1.0, 1.0, 1.0, 1.0, 2.0, 6.0, 6.0, 6.0, 8.0, 16.0, 17.0, 19.0, 28.0, 29.0, 33.0, 35.0, 37.0, 66.0, 115.0, 165.0, 264.0, 328.0, 351.0, 420.0, 488.0, 551.0, 615.0, 631.0, 666.0, 685.0, 720.0, 761.0, 805.0, 889.0, 931.0, 990.0, 1049.0, 1329.0, 1398.0, 1490.0, 1640.0, 1812.0, 1925.0, 2049.0, 2215.0, 2357.0, 2531.0, 2784.0, 2953.0, 3163.0, 3555.0, 3765.0, 4134.0, 4476.0, 5431.0, 6783.0, 7798.0, 9120.0, 10144.0, 11457.0, 12737.0, 15257.0, 17622.0, 19051.0, 21869.0, 23666.0, 25722.0, 28748.0, 31634.0, 33478.0, 36040.0, 39003.0, 41236.0, 43520.0, 45668.0, 48450.0, 51022.0, 54553.0, 57013.0, 58883.0, 62442.0, 64306.0, 65790.0, 68159.0, 68965.0, 70616.0, 71791.0, 72817.0, 74524.0, 76339.0, 77954.0, 80019.0, 81029.0, 82548.0, 84720.0, 87890.0, 89540.0, 91662.0, 93915.0, 95764.0, 98917.0, 101130.0, 105175.0, 109885.0, 112797.0, 117882.0, 120471.0, 122128.0, 124755.0, 127118.0, 130766.0, 132760.0, 137669.0, 140614.0, 143256.0, 145236.0, 149634.0, 154839.0, 158050.0, 161096.0, 163026.0, 165396.0, 167138.0, 169842.0, 177560.0, 183048.0, 187622.0, 191161.0, 194218.0, 197735.0, 203259.0]}],\n",
       "                        {\"bargap\": 0.15, \"bargroupgap\": 0.1, \"barmode\": \"group\", \"legend\": {\"bgcolor\": \"rgba(255, 255, 255, 0)\", \"bordercolor\": \"rgba(255, 255, 255, 0)\", \"x\": 0, \"y\": 1.0}, \"template\": {\"data\": {\"bar\": [{\"error_x\": {\"color\": \"#2a3f5f\"}, \"error_y\": {\"color\": \"#2a3f5f\"}, \"marker\": {\"line\": {\"color\": \"#E5ECF6\", \"width\": 0.5}}, \"type\": \"bar\"}], \"barpolar\": [{\"marker\": {\"line\": {\"color\": \"#E5ECF6\", \"width\": 0.5}}, \"type\": \"barpolar\"}], \"carpet\": [{\"aaxis\": {\"endlinecolor\": \"#2a3f5f\", \"gridcolor\": \"white\", \"linecolor\": \"white\", \"minorgridcolor\": \"white\", \"startlinecolor\": \"#2a3f5f\"}, \"baxis\": {\"endlinecolor\": \"#2a3f5f\", \"gridcolor\": \"white\", \"linecolor\": \"white\", \"minorgridcolor\": \"white\", \"startlinecolor\": \"#2a3f5f\"}, \"type\": \"carpet\"}], \"choropleth\": [{\"colorbar\": {\"outlinewidth\": 0, \"ticks\": \"\"}, \"type\": \"choropleth\"}], \"contour\": [{\"colorbar\": {\"outlinewidth\": 0, \"ticks\": \"\"}, \"colorscale\": [[0.0, \"#0d0887\"], [0.1111111111111111, \"#46039f\"], [0.2222222222222222, \"#7201a8\"], [0.3333333333333333, \"#9c179e\"], [0.4444444444444444, \"#bd3786\"], [0.5555555555555556, \"#d8576b\"], [0.6666666666666666, \"#ed7953\"], [0.7777777777777778, \"#fb9f3a\"], [0.8888888888888888, \"#fdca26\"], [1.0, \"#f0f921\"]], \"type\": \"contour\"}], \"contourcarpet\": [{\"colorbar\": {\"outlinewidth\": 0, \"ticks\": \"\"}, \"type\": \"contourcarpet\"}], \"heatmap\": [{\"colorbar\": {\"outlinewidth\": 0, \"ticks\": \"\"}, \"colorscale\": [[0.0, \"#0d0887\"], [0.1111111111111111, \"#46039f\"], [0.2222222222222222, \"#7201a8\"], [0.3333333333333333, \"#9c179e\"], [0.4444444444444444, \"#bd3786\"], [0.5555555555555556, \"#d8576b\"], [0.6666666666666666, \"#ed7953\"], [0.7777777777777778, \"#fb9f3a\"], [0.8888888888888888, \"#fdca26\"], [1.0, \"#f0f921\"]], \"type\": \"heatmap\"}], \"heatmapgl\": [{\"colorbar\": {\"outlinewidth\": 0, \"ticks\": \"\"}, \"colorscale\": [[0.0, \"#0d0887\"], [0.1111111111111111, \"#46039f\"], [0.2222222222222222, \"#7201a8\"], [0.3333333333333333, \"#9c179e\"], [0.4444444444444444, \"#bd3786\"], [0.5555555555555556, \"#d8576b\"], [0.6666666666666666, \"#ed7953\"], [0.7777777777777778, \"#fb9f3a\"], [0.8888888888888888, \"#fdca26\"], [1.0, \"#f0f921\"]], \"type\": \"heatmapgl\"}], \"histogram\": [{\"marker\": {\"colorbar\": {\"outlinewidth\": 0, \"ticks\": \"\"}}, \"type\": \"histogram\"}], \"histogram2d\": [{\"colorbar\": {\"outlinewidth\": 0, \"ticks\": \"\"}, \"colorscale\": [[0.0, \"#0d0887\"], [0.1111111111111111, \"#46039f\"], [0.2222222222222222, \"#7201a8\"], [0.3333333333333333, \"#9c179e\"], [0.4444444444444444, \"#bd3786\"], [0.5555555555555556, \"#d8576b\"], [0.6666666666666666, \"#ed7953\"], [0.7777777777777778, \"#fb9f3a\"], [0.8888888888888888, \"#fdca26\"], [1.0, \"#f0f921\"]], \"type\": \"histogram2d\"}], \"histogram2dcontour\": [{\"colorbar\": {\"outlinewidth\": 0, \"ticks\": \"\"}, \"colorscale\": [[0.0, \"#0d0887\"], [0.1111111111111111, \"#46039f\"], [0.2222222222222222, \"#7201a8\"], [0.3333333333333333, \"#9c179e\"], [0.4444444444444444, \"#bd3786\"], [0.5555555555555556, \"#d8576b\"], [0.6666666666666666, \"#ed7953\"], [0.7777777777777778, \"#fb9f3a\"], [0.8888888888888888, \"#fdca26\"], [1.0, \"#f0f921\"]], \"type\": \"histogram2dcontour\"}], \"mesh3d\": [{\"colorbar\": {\"outlinewidth\": 0, \"ticks\": \"\"}, \"type\": \"mesh3d\"}], \"parcoords\": [{\"line\": {\"colorbar\": {\"outlinewidth\": 0, \"ticks\": \"\"}}, \"type\": \"parcoords\"}], \"pie\": [{\"automargin\": true, \"type\": \"pie\"}], \"scatter\": [{\"marker\": {\"colorbar\": {\"outlinewidth\": 0, \"ticks\": \"\"}}, \"type\": \"scatter\"}], \"scatter3d\": [{\"line\": {\"colorbar\": {\"outlinewidth\": 0, \"ticks\": \"\"}}, \"marker\": {\"colorbar\": {\"outlinewidth\": 0, \"ticks\": \"\"}}, \"type\": \"scatter3d\"}], \"scattercarpet\": [{\"marker\": {\"colorbar\": {\"outlinewidth\": 0, \"ticks\": \"\"}}, \"type\": \"scattercarpet\"}], \"scattergeo\": [{\"marker\": {\"colorbar\": {\"outlinewidth\": 0, \"ticks\": \"\"}}, \"type\": \"scattergeo\"}], \"scattergl\": [{\"marker\": {\"colorbar\": {\"outlinewidth\": 0, \"ticks\": \"\"}}, \"type\": \"scattergl\"}], \"scattermapbox\": [{\"marker\": {\"colorbar\": {\"outlinewidth\": 0, \"ticks\": \"\"}}, \"type\": \"scattermapbox\"}], \"scatterpolar\": [{\"marker\": {\"colorbar\": {\"outlinewidth\": 0, \"ticks\": \"\"}}, \"type\": \"scatterpolar\"}], \"scatterpolargl\": [{\"marker\": {\"colorbar\": {\"outlinewidth\": 0, \"ticks\": \"\"}}, \"type\": \"scatterpolargl\"}], \"scatterternary\": [{\"marker\": {\"colorbar\": {\"outlinewidth\": 0, \"ticks\": \"\"}}, \"type\": \"scatterternary\"}], \"surface\": [{\"colorbar\": {\"outlinewidth\": 0, \"ticks\": \"\"}, \"colorscale\": [[0.0, \"#0d0887\"], [0.1111111111111111, \"#46039f\"], [0.2222222222222222, \"#7201a8\"], [0.3333333333333333, \"#9c179e\"], [0.4444444444444444, \"#bd3786\"], [0.5555555555555556, \"#d8576b\"], [0.6666666666666666, \"#ed7953\"], [0.7777777777777778, \"#fb9f3a\"], [0.8888888888888888, \"#fdca26\"], [1.0, \"#f0f921\"]], \"type\": \"surface\"}], \"table\": [{\"cells\": {\"fill\": {\"color\": \"#EBF0F8\"}, \"line\": {\"color\": \"white\"}}, \"header\": {\"fill\": {\"color\": \"#C8D4E3\"}, \"line\": {\"color\": \"white\"}}, \"type\": \"table\"}]}, \"layout\": {\"annotationdefaults\": {\"arrowcolor\": \"#2a3f5f\", \"arrowhead\": 0, \"arrowwidth\": 1}, \"coloraxis\": {\"colorbar\": {\"outlinewidth\": 0, \"ticks\": \"\"}}, \"colorscale\": {\"diverging\": [[0, \"#8e0152\"], [0.1, \"#c51b7d\"], [0.2, \"#de77ae\"], [0.3, \"#f1b6da\"], [0.4, \"#fde0ef\"], [0.5, \"#f7f7f7\"], [0.6, \"#e6f5d0\"], [0.7, \"#b8e186\"], [0.8, \"#7fbc41\"], [0.9, \"#4d9221\"], [1, \"#276419\"]], \"sequential\": [[0.0, \"#0d0887\"], [0.1111111111111111, \"#46039f\"], [0.2222222222222222, \"#7201a8\"], [0.3333333333333333, \"#9c179e\"], [0.4444444444444444, \"#bd3786\"], [0.5555555555555556, \"#d8576b\"], [0.6666666666666666, \"#ed7953\"], [0.7777777777777778, \"#fb9f3a\"], [0.8888888888888888, \"#fdca26\"], [1.0, \"#f0f921\"]], \"sequentialminus\": [[0.0, \"#0d0887\"], [0.1111111111111111, \"#46039f\"], [0.2222222222222222, \"#7201a8\"], [0.3333333333333333, \"#9c179e\"], [0.4444444444444444, \"#bd3786\"], [0.5555555555555556, \"#d8576b\"], [0.6666666666666666, \"#ed7953\"], [0.7777777777777778, \"#fb9f3a\"], [0.8888888888888888, \"#fdca26\"], [1.0, \"#f0f921\"]]}, \"colorway\": [\"#636efa\", \"#EF553B\", \"#00cc96\", \"#ab63fa\", \"#FFA15A\", \"#19d3f3\", \"#FF6692\", \"#B6E880\", \"#FF97FF\", \"#FECB52\"], \"font\": {\"color\": \"#2a3f5f\"}, \"geo\": {\"bgcolor\": \"white\", \"lakecolor\": \"white\", \"landcolor\": \"#E5ECF6\", \"showlakes\": true, \"showland\": true, \"subunitcolor\": \"white\"}, \"hoverlabel\": {\"align\": \"left\"}, \"hovermode\": \"closest\", \"mapbox\": {\"style\": \"light\"}, \"paper_bgcolor\": \"white\", \"plot_bgcolor\": \"#E5ECF6\", \"polar\": {\"angularaxis\": {\"gridcolor\": \"white\", \"linecolor\": \"white\", \"ticks\": \"\"}, \"bgcolor\": \"#E5ECF6\", \"radialaxis\": {\"gridcolor\": \"white\", \"linecolor\": \"white\", \"ticks\": \"\"}}, \"scene\": {\"xaxis\": {\"backgroundcolor\": \"#E5ECF6\", \"gridcolor\": \"white\", \"gridwidth\": 2, \"linecolor\": \"white\", \"showbackground\": true, \"ticks\": \"\", \"zerolinecolor\": \"white\"}, \"yaxis\": {\"backgroundcolor\": \"#E5ECF6\", \"gridcolor\": \"white\", \"gridwidth\": 2, \"linecolor\": \"white\", \"showbackground\": true, \"ticks\": \"\", \"zerolinecolor\": \"white\"}, \"zaxis\": {\"backgroundcolor\": \"#E5ECF6\", \"gridcolor\": \"white\", \"gridwidth\": 2, \"linecolor\": \"white\", \"showbackground\": true, \"ticks\": \"\", \"zerolinecolor\": \"white\"}}, \"shapedefaults\": {\"line\": {\"color\": \"#2a3f5f\"}}, \"ternary\": {\"aaxis\": {\"gridcolor\": \"white\", \"linecolor\": \"white\", \"ticks\": \"\"}, \"baxis\": {\"gridcolor\": \"white\", \"linecolor\": \"white\", \"ticks\": \"\"}, \"bgcolor\": \"#E5ECF6\", \"caxis\": {\"gridcolor\": \"white\", \"linecolor\": \"white\", \"ticks\": \"\"}}, \"title\": {\"x\": 0.05}, \"xaxis\": {\"automargin\": true, \"gridcolor\": \"white\", \"linecolor\": \"white\", \"ticks\": \"\", \"title\": {\"standoff\": 15}, \"zerolinecolor\": \"white\", \"zerolinewidth\": 2}, \"yaxis\": {\"automargin\": true, \"gridcolor\": \"white\", \"linecolor\": \"white\", \"ticks\": \"\", \"title\": {\"standoff\": 15}, \"zerolinecolor\": \"white\", \"zerolinewidth\": 2}}}, \"title\": {\"text\": \"Saudi Arabia Corona Virus Cases - Confirmed, Deaths, Recovered (Bar Chart)\"}, \"xaxis\": {\"tickfont\": {\"size\": 14}}, \"yaxis\": {\"tickfont\": {\"size\": 14}, \"title\": {\"font\": {\"size\": 16}, \"text\": \"Number of Cases\"}}},\n",
       "                        {\"responsive\": true}\n",
       "                    ).then(function(){\n",
       "                            \n",
       "var gd = document.getElementById('f3212991-3454-42e7-8310-2c439da5f435');\n",
       "var x = new MutationObserver(function (mutations, observer) {{\n",
       "        var display = window.getComputedStyle(gd).display;\n",
       "        if (!display || display === 'none') {{\n",
       "            console.log([gd, 'removed!']);\n",
       "            Plotly.purge(gd);\n",
       "            observer.disconnect();\n",
       "        }}\n",
       "}});\n",
       "\n",
       "// Listen for the removal of the full notebook cells\n",
       "var notebookContainer = gd.closest('#notebook-container');\n",
       "if (notebookContainer) {{\n",
       "    x.observe(notebookContainer, {childList: true});\n",
       "}}\n",
       "\n",
       "// Listen for the clearing of the current output cell\n",
       "var outputEl = gd.closest('.output');\n",
       "if (outputEl) {{\n",
       "    x.observe(outputEl, {childList: true});\n",
       "}}\n",
       "\n",
       "                        })\n",
       "                };\n",
       "                });\n",
       "            </script>\n",
       "        </div>"
      ]
     },
     "metadata": {},
     "output_type": "display_data"
    }
   ],
   "source": [
    "\n",
    "\n",
    "fig = go.Figure()\n",
    "fig.add_trace(go.Bar(x=confirmed['Date'],\n",
    "                y=confirmed['Confirmed'],\n",
    "                name='Confirmed',\n",
    "                marker_color='blue'\n",
    "                ))\n",
    "fig.add_trace(go.Bar(x=deaths['Date'],\n",
    "                y=deaths['Deaths'],\n",
    "                name='Deaths',\n",
    "                marker_color='Red'\n",
    "                ))\n",
    "fig.add_trace(go.Bar(x=recovered['Date'],\n",
    "                y=recovered['Recovered'],\n",
    "                name='Recovered',\n",
    "                marker_color='Green'\n",
    "                ))\n",
    "\n",
    "fig.update_layout(\n",
    "    title='Saudi Arabia Corona Virus Cases - Confirmed, Deaths, Recovered (Bar Chart)',\n",
    "    xaxis_tickfont_size=14,\n",
    "    yaxis=dict(\n",
    "        title='Number of Cases',\n",
    "        titlefont_size=16,\n",
    "        tickfont_size=14,\n",
    "    ),\n",
    "    legend=dict(\n",
    "        x=0,\n",
    "        y=1.0,\n",
    "        bgcolor='rgba(255, 255, 255, 0)',\n",
    "        bordercolor='rgba(255, 255, 255, 0)'\n",
    "    ),\n",
    "    barmode='group',\n",
    "    bargap=0.15, # gap between bars of adjacent location coordinates.\n",
    "    bargroupgap=0.1 # gap between bars of the same location coordinate.\n",
    ")\n",
    "fig.show()\n",
    "\n"
   ]
  },
  {
   "cell_type": "code",
   "execution_count": 45,
   "metadata": {},
   "outputs": [
    {
     "data": {
      "application/vnd.plotly.v1+json": {
       "config": {
        "plotlyServerURL": "https://plot.ly"
       },
       "data": [
        {
         "line": {
          "color": "blue",
          "width": 2
         },
         "mode": "lines+markers",
         "name": "Confirmed",
         "type": "scatter",
         "x": [
          "03/02/2020",
          "03/03/2020",
          "03/04/2020",
          "03/05/2020",
          "03/06/2020",
          "03/07/2020",
          "03/08/2020",
          "03/09/2020",
          "03/10/2020",
          "03/11/2020",
          "03/12/2020",
          "03/13/2020",
          "03/14/2020",
          "03/15/2020",
          "03/16/2020",
          "03/17/2020",
          "03/18/2020",
          "03/19/2020",
          "03/20/2020",
          "03/21/2020",
          "03/22/2020",
          "03/23/2020",
          "03/24/2020",
          "03/25/2020",
          "03/26/2020",
          "03/27/2020",
          "03/28/2020",
          "03/29/2020",
          "03/30/2020",
          "03/31/2020",
          "04/01/2020",
          "04/02/2020",
          "04/03/2020",
          "04/04/2020",
          "04/05/2020",
          "04/06/2020",
          "04/07/2020",
          "04/08/2020",
          "04/09/2020",
          "04/10/2020",
          "04/11/2020",
          "04/12/2020",
          "04/13/2020",
          "04/14/2020",
          "04/15/2020",
          "04/16/2020",
          "04/17/2020",
          "04/18/2020",
          "04/19/2020",
          "04/20/2020",
          "04/21/2020",
          "04/22/2020",
          "04/23/2020",
          "04/24/2020",
          "04/25/2020",
          "04/26/2020",
          "04/27/2020",
          "04/28/2020",
          "04/29/2020",
          "04/30/2020",
          "05/01/2020",
          "05/02/2020",
          "05/03/2020",
          "05/04/2020",
          "05/05/2020",
          "05/06/2020",
          "05/07/2020",
          "05/08/2020",
          "05/09/2020",
          "05/10/2020",
          "05/11/2020",
          "05/12/2020",
          "05/13/2020",
          "05/14/2020",
          "05/15/2020",
          "05/16/2020",
          "05/17/2020",
          "05/18/2020",
          "05/19/2020",
          "05/20/2020",
          "05/21/2020",
          "05/22/2020",
          "05/23/2020",
          "05/24/2020",
          "05/25/2020",
          "05/26/2020",
          "05/27/2020",
          "05/28/2020",
          "05/29/2020",
          "05/30/2020",
          "05/31/2020",
          "06/01/2020",
          "06/02/2020",
          "06/03/2020",
          "06/04/2020",
          "06/05/2020",
          "06/06/2020",
          "06/07/2020",
          "06/08/2020",
          "06/09/2020",
          "06/10/2020",
          "06/11/2020",
          "06/12/2020",
          "06/13/2020",
          "06/14/2020",
          "06/15/2020",
          "06/16/2020",
          "06/17/2020",
          "06/18/2020",
          "06/19/2020",
          "06/20/2020",
          "06/21/2020",
          "06/22/2020",
          "06/23/2020",
          "06/24/2020",
          "06/25/2020",
          "06/26/2020",
          "06/27/2020",
          "06/28/2020",
          "06/29/2020",
          "06/30/2020",
          "07/01/2020",
          "07/02/2020",
          "07/03/2020",
          "07/04/2020",
          "07/05/2020",
          "07/06/2020",
          "07/07/2020",
          "07/08/2020",
          "07/09/2020",
          "07/10/2020",
          "07/11/2020",
          "07/12/2020",
          "07/13/2020",
          "07/14/2020",
          "07/15/2020",
          "07/16/2020",
          "07/17/2020",
          "07/18/2020",
          "07/19/2020",
          "07/20/2020"
         ],
         "y": [
          1,
          1,
          1,
          5,
          5,
          5,
          11,
          15,
          20,
          21,
          45,
          86,
          103,
          103,
          118,
          171,
          171,
          274,
          344,
          392,
          511,
          562,
          767,
          900,
          1012,
          1104,
          1203,
          1299,
          1453,
          1563,
          1720,
          1885,
          2039,
          2179,
          2402,
          2605,
          2795,
          2932,
          3287,
          3651,
          4033,
          4462,
          4934,
          5369,
          5862,
          6380,
          7142,
          8274,
          9362,
          10484,
          11631,
          12772,
          13930,
          15102,
          16299,
          17522,
          18811,
          20077,
          21402,
          22753,
          24097,
          25459,
          27011,
          28656,
          30251,
          31938,
          33731,
          35432,
          37136,
          39048,
          41014,
          42925,
          44830,
          46869,
          49176,
          52016,
          54752,
          57345,
          59854,
          62545,
          65077,
          67719,
          70161,
          72560,
          74795,
          76726,
          78541,
          80185,
          81766,
          83384,
          85261,
          87142,
          89011,
          91182,
          93157,
          95748,
          98869,
          101914,
          105283,
          108571,
          112288,
          116021,
          119942,
          123308,
          127541,
          132048,
          136315,
          141234,
          145991,
          150292,
          154233,
          157612,
          161005,
          164144,
          167267,
          170639,
          174577,
          178504,
          182493,
          186436,
          190823,
          194225,
          197608,
          201801,
          205929,
          209509,
          213716,
          217108,
          220144,
          223327,
          226486,
          229480,
          232259,
          235111,
          237803,
          240474,
          243238,
          245851,
          248416,
          250920,
          253349
         ]
        },
        {
         "line": {
          "color": "Red",
          "width": 2
         },
         "mode": "lines+markers",
         "name": "Deaths",
         "type": "scatter",
         "x": [
          "03/02/2020",
          "03/03/2020",
          "03/04/2020",
          "03/05/2020",
          "03/06/2020",
          "03/07/2020",
          "03/08/2020",
          "03/09/2020",
          "03/10/2020",
          "03/11/2020",
          "03/12/2020",
          "03/13/2020",
          "03/14/2020",
          "03/15/2020",
          "03/16/2020",
          "03/17/2020",
          "03/18/2020",
          "03/19/2020",
          "03/20/2020",
          "03/21/2020",
          "03/22/2020",
          "03/23/2020",
          "03/24/2020",
          "03/25/2020",
          "03/26/2020",
          "03/27/2020",
          "03/28/2020",
          "03/29/2020",
          "03/30/2020",
          "03/31/2020",
          "04/01/2020",
          "04/02/2020",
          "04/03/2020",
          "04/04/2020",
          "04/05/2020",
          "04/06/2020",
          "04/07/2020",
          "04/08/2020",
          "04/09/2020",
          "04/10/2020",
          "04/11/2020",
          "04/12/2020",
          "04/13/2020",
          "04/14/2020",
          "04/15/2020",
          "04/16/2020",
          "04/17/2020",
          "04/18/2020",
          "04/19/2020",
          "04/20/2020",
          "04/21/2020",
          "04/22/2020",
          "04/23/2020",
          "04/24/2020",
          "04/25/2020",
          "04/26/2020",
          "04/27/2020",
          "04/28/2020",
          "04/29/2020",
          "04/30/2020",
          "05/01/2020",
          "05/02/2020",
          "05/03/2020",
          "05/04/2020",
          "05/05/2020",
          "05/06/2020",
          "05/07/2020",
          "05/08/2020",
          "05/09/2020",
          "05/10/2020",
          "05/11/2020",
          "05/12/2020",
          "05/13/2020",
          "05/14/2020",
          "05/15/2020",
          "05/16/2020",
          "05/17/2020",
          "05/18/2020",
          "05/19/2020",
          "05/20/2020",
          "05/21/2020",
          "05/22/2020",
          "05/23/2020",
          "05/24/2020",
          "05/25/2020",
          "05/26/2020",
          "05/27/2020",
          "05/28/2020",
          "05/29/2020",
          "05/30/2020",
          "05/31/2020",
          "06/01/2020",
          "06/02/2020",
          "06/03/2020",
          "06/04/2020",
          "06/05/2020",
          "06/06/2020",
          "06/07/2020",
          "06/08/2020",
          "06/09/2020",
          "06/10/2020",
          "06/11/2020",
          "06/12/2020",
          "06/13/2020",
          "06/14/2020",
          "06/15/2020",
          "06/16/2020",
          "06/17/2020",
          "06/18/2020",
          "06/19/2020",
          "06/20/2020",
          "06/21/2020",
          "06/22/2020",
          "06/23/2020",
          "06/24/2020",
          "06/25/2020",
          "06/26/2020",
          "06/27/2020",
          "06/28/2020",
          "06/29/2020",
          "06/30/2020",
          "07/01/2020",
          "07/02/2020",
          "07/03/2020",
          "07/04/2020",
          "07/05/2020",
          "07/06/2020",
          "07/07/2020",
          "07/08/2020",
          "07/09/2020",
          "07/10/2020",
          "07/11/2020",
          "07/12/2020",
          "07/13/2020",
          "07/14/2020",
          "07/15/2020",
          "07/16/2020",
          "07/17/2020",
          "07/18/2020",
          "07/19/2020",
          "07/20/2020"
         ],
         "y": [
          0,
          0,
          0,
          0,
          0,
          0,
          0,
          0,
          0,
          0,
          0,
          0,
          0,
          0,
          0,
          0,
          0,
          0,
          0,
          0,
          0,
          0,
          1,
          2,
          3,
          3,
          4,
          8,
          8,
          10,
          16,
          21,
          25,
          29,
          34,
          38,
          41,
          41,
          44,
          47,
          52,
          59,
          65,
          73,
          79,
          83,
          87,
          92,
          97,
          103,
          109,
          114,
          121,
          127,
          136,
          139,
          144,
          152,
          157,
          162,
          169,
          176,
          184,
          191,
          200,
          209,
          219,
          229,
          239,
          246,
          255,
          264,
          273,
          283,
          292,
          302,
          312,
          320,
          329,
          339,
          351,
          364,
          379,
          390,
          399,
          411,
          425,
          441,
          458,
          480,
          503,
          525,
          549,
          579,
          611,
          642,
          676,
          712,
          746,
          783,
          819,
          857,
          893,
          932,
          972,
          1011,
          1052,
          1091,
          1139,
          1184,
          1230,
          1267,
          1307,
          1346,
          1387,
          1428,
          1474,
          1511,
          1551,
          1599,
          1649,
          1698,
          1752,
          1802,
          1858,
          1916,
          1968,
          2017,
          2059,
          2100,
          2151,
          2181,
          2223,
          2243,
          2283,
          2325,
          2370,
          2407,
          2447,
          2486,
          2523
         ]
        },
        {
         "line": {
          "color": "Green",
          "width": 2
         },
         "mode": "lines+markers",
         "name": "Recovered",
         "type": "scatter",
         "x": [
          "03/02/2020",
          "03/03/2020",
          "03/04/2020",
          "03/05/2020",
          "03/06/2020",
          "03/07/2020",
          "03/08/2020",
          "03/09/2020",
          "03/10/2020",
          "03/11/2020",
          "03/12/2020",
          "03/13/2020",
          "03/14/2020",
          "03/15/2020",
          "03/16/2020",
          "03/17/2020",
          "03/18/2020",
          "03/19/2020",
          "03/20/2020",
          "03/21/2020",
          "03/22/2020",
          "03/23/2020",
          "03/24/2020",
          "03/25/2020",
          "03/26/2020",
          "03/27/2020",
          "03/28/2020",
          "03/29/2020",
          "03/30/2020",
          "03/31/2020",
          "04/01/2020",
          "04/02/2020",
          "04/03/2020",
          "04/04/2020",
          "04/05/2020",
          "04/06/2020",
          "04/07/2020",
          "04/08/2020",
          "04/09/2020",
          "04/10/2020",
          "04/11/2020",
          "04/12/2020",
          "04/13/2020",
          "04/14/2020",
          "04/15/2020",
          "04/16/2020",
          "04/17/2020",
          "04/18/2020",
          "04/19/2020",
          "04/20/2020",
          "04/21/2020",
          "04/22/2020",
          "04/23/2020",
          "04/24/2020",
          "04/25/2020",
          "04/26/2020",
          "04/27/2020",
          "04/28/2020",
          "04/29/2020",
          "04/30/2020",
          "05/01/2020",
          "05/02/2020",
          "05/03/2020",
          "05/04/2020",
          "05/05/2020",
          "05/06/2020",
          "05/07/2020",
          "05/08/2020",
          "05/09/2020",
          "05/10/2020",
          "05/11/2020",
          "05/12/2020",
          "05/13/2020",
          "05/14/2020",
          "05/15/2020",
          "05/16/2020",
          "05/17/2020",
          "05/18/2020",
          "05/19/2020",
          "05/20/2020",
          "05/21/2020",
          "05/22/2020",
          "05/23/2020",
          "05/24/2020",
          "05/25/2020",
          "05/26/2020",
          "05/27/2020",
          "05/28/2020",
          "05/29/2020",
          "05/30/2020",
          "05/31/2020",
          "06/01/2020",
          "06/02/2020",
          "06/03/2020",
          "06/04/2020",
          "06/05/2020",
          "06/06/2020",
          "06/07/2020",
          "06/08/2020",
          "06/09/2020",
          "06/10/2020",
          "06/11/2020",
          "06/12/2020",
          "06/13/2020",
          "06/14/2020",
          "06/15/2020",
          "06/16/2020",
          "06/17/2020",
          "06/18/2020",
          "06/19/2020",
          "06/20/2020",
          "06/21/2020",
          "06/22/2020",
          "06/23/2020",
          "06/24/2020",
          "06/25/2020",
          "06/26/2020",
          "06/27/2020",
          "06/28/2020",
          "06/29/2020",
          "06/30/2020",
          "07/01/2020",
          "07/02/2020",
          "07/03/2020",
          "07/04/2020",
          "07/05/2020",
          "07/06/2020",
          "07/07/2020",
          "07/08/2020",
          "07/09/2020",
          "07/10/2020",
          "07/11/2020",
          "07/12/2020",
          "07/13/2020",
          "07/14/2020",
          "07/15/2020",
          "07/16/2020",
          "07/17/2020",
          "07/18/2020",
          "07/19/2020",
          "07/20/2020"
         ],
         "y": [
          0,
          0,
          0,
          0,
          0,
          0,
          0,
          0,
          1,
          1,
          1,
          1,
          1,
          1,
          2,
          6,
          6,
          6,
          8,
          16,
          17,
          19,
          28,
          29,
          33,
          35,
          37,
          66,
          115,
          165,
          264,
          328,
          351,
          420,
          488,
          551,
          615,
          631,
          666,
          685,
          720,
          761,
          805,
          889,
          931,
          990,
          1049,
          1329,
          1398,
          1490,
          1640,
          1812,
          1925,
          2049,
          2215,
          2357,
          2531,
          2784,
          2953,
          3163,
          3555,
          3765,
          4134,
          4476,
          5431,
          6783,
          7798,
          9120,
          10144,
          11457,
          12737,
          15257,
          17622,
          19051,
          21869,
          23666,
          25722,
          28748,
          31634,
          33478,
          36040,
          39003,
          41236,
          43520,
          45668,
          48450,
          51022,
          54553,
          57013,
          58883,
          62442,
          64306,
          65790,
          68159,
          68965,
          70616,
          71791,
          72817,
          74524,
          76339,
          77954,
          80019,
          81029,
          82548,
          84720,
          87890,
          89540,
          91662,
          93915,
          95764,
          98917,
          101130,
          105175,
          109885,
          112797,
          117882,
          120471,
          122128,
          124755,
          127118,
          130766,
          132760,
          137669,
          140614,
          143256,
          145236,
          149634,
          154839,
          158050,
          161096,
          163026,
          165396,
          167138,
          169842,
          177560,
          183048,
          187622,
          191161,
          194218,
          197735,
          203259
         ]
        }
       ],
       "layout": {
        "legend": {
         "bgcolor": "rgba(255, 255, 255, 0)",
         "bordercolor": "rgba(255, 255, 255, 0)",
         "x": 0,
         "y": 1
        },
        "template": {
         "data": {
          "bar": [
           {
            "error_x": {
             "color": "#2a3f5f"
            },
            "error_y": {
             "color": "#2a3f5f"
            },
            "marker": {
             "line": {
              "color": "#E5ECF6",
              "width": 0.5
             }
            },
            "type": "bar"
           }
          ],
          "barpolar": [
           {
            "marker": {
             "line": {
              "color": "#E5ECF6",
              "width": 0.5
             }
            },
            "type": "barpolar"
           }
          ],
          "carpet": [
           {
            "aaxis": {
             "endlinecolor": "#2a3f5f",
             "gridcolor": "white",
             "linecolor": "white",
             "minorgridcolor": "white",
             "startlinecolor": "#2a3f5f"
            },
            "baxis": {
             "endlinecolor": "#2a3f5f",
             "gridcolor": "white",
             "linecolor": "white",
             "minorgridcolor": "white",
             "startlinecolor": "#2a3f5f"
            },
            "type": "carpet"
           }
          ],
          "choropleth": [
           {
            "colorbar": {
             "outlinewidth": 0,
             "ticks": ""
            },
            "type": "choropleth"
           }
          ],
          "contour": [
           {
            "colorbar": {
             "outlinewidth": 0,
             "ticks": ""
            },
            "colorscale": [
             [
              0,
              "#0d0887"
             ],
             [
              0.1111111111111111,
              "#46039f"
             ],
             [
              0.2222222222222222,
              "#7201a8"
             ],
             [
              0.3333333333333333,
              "#9c179e"
             ],
             [
              0.4444444444444444,
              "#bd3786"
             ],
             [
              0.5555555555555556,
              "#d8576b"
             ],
             [
              0.6666666666666666,
              "#ed7953"
             ],
             [
              0.7777777777777778,
              "#fb9f3a"
             ],
             [
              0.8888888888888888,
              "#fdca26"
             ],
             [
              1,
              "#f0f921"
             ]
            ],
            "type": "contour"
           }
          ],
          "contourcarpet": [
           {
            "colorbar": {
             "outlinewidth": 0,
             "ticks": ""
            },
            "type": "contourcarpet"
           }
          ],
          "heatmap": [
           {
            "colorbar": {
             "outlinewidth": 0,
             "ticks": ""
            },
            "colorscale": [
             [
              0,
              "#0d0887"
             ],
             [
              0.1111111111111111,
              "#46039f"
             ],
             [
              0.2222222222222222,
              "#7201a8"
             ],
             [
              0.3333333333333333,
              "#9c179e"
             ],
             [
              0.4444444444444444,
              "#bd3786"
             ],
             [
              0.5555555555555556,
              "#d8576b"
             ],
             [
              0.6666666666666666,
              "#ed7953"
             ],
             [
              0.7777777777777778,
              "#fb9f3a"
             ],
             [
              0.8888888888888888,
              "#fdca26"
             ],
             [
              1,
              "#f0f921"
             ]
            ],
            "type": "heatmap"
           }
          ],
          "heatmapgl": [
           {
            "colorbar": {
             "outlinewidth": 0,
             "ticks": ""
            },
            "colorscale": [
             [
              0,
              "#0d0887"
             ],
             [
              0.1111111111111111,
              "#46039f"
             ],
             [
              0.2222222222222222,
              "#7201a8"
             ],
             [
              0.3333333333333333,
              "#9c179e"
             ],
             [
              0.4444444444444444,
              "#bd3786"
             ],
             [
              0.5555555555555556,
              "#d8576b"
             ],
             [
              0.6666666666666666,
              "#ed7953"
             ],
             [
              0.7777777777777778,
              "#fb9f3a"
             ],
             [
              0.8888888888888888,
              "#fdca26"
             ],
             [
              1,
              "#f0f921"
             ]
            ],
            "type": "heatmapgl"
           }
          ],
          "histogram": [
           {
            "marker": {
             "colorbar": {
              "outlinewidth": 0,
              "ticks": ""
             }
            },
            "type": "histogram"
           }
          ],
          "histogram2d": [
           {
            "colorbar": {
             "outlinewidth": 0,
             "ticks": ""
            },
            "colorscale": [
             [
              0,
              "#0d0887"
             ],
             [
              0.1111111111111111,
              "#46039f"
             ],
             [
              0.2222222222222222,
              "#7201a8"
             ],
             [
              0.3333333333333333,
              "#9c179e"
             ],
             [
              0.4444444444444444,
              "#bd3786"
             ],
             [
              0.5555555555555556,
              "#d8576b"
             ],
             [
              0.6666666666666666,
              "#ed7953"
             ],
             [
              0.7777777777777778,
              "#fb9f3a"
             ],
             [
              0.8888888888888888,
              "#fdca26"
             ],
             [
              1,
              "#f0f921"
             ]
            ],
            "type": "histogram2d"
           }
          ],
          "histogram2dcontour": [
           {
            "colorbar": {
             "outlinewidth": 0,
             "ticks": ""
            },
            "colorscale": [
             [
              0,
              "#0d0887"
             ],
             [
              0.1111111111111111,
              "#46039f"
             ],
             [
              0.2222222222222222,
              "#7201a8"
             ],
             [
              0.3333333333333333,
              "#9c179e"
             ],
             [
              0.4444444444444444,
              "#bd3786"
             ],
             [
              0.5555555555555556,
              "#d8576b"
             ],
             [
              0.6666666666666666,
              "#ed7953"
             ],
             [
              0.7777777777777778,
              "#fb9f3a"
             ],
             [
              0.8888888888888888,
              "#fdca26"
             ],
             [
              1,
              "#f0f921"
             ]
            ],
            "type": "histogram2dcontour"
           }
          ],
          "mesh3d": [
           {
            "colorbar": {
             "outlinewidth": 0,
             "ticks": ""
            },
            "type": "mesh3d"
           }
          ],
          "parcoords": [
           {
            "line": {
             "colorbar": {
              "outlinewidth": 0,
              "ticks": ""
             }
            },
            "type": "parcoords"
           }
          ],
          "pie": [
           {
            "automargin": true,
            "type": "pie"
           }
          ],
          "scatter": [
           {
            "marker": {
             "colorbar": {
              "outlinewidth": 0,
              "ticks": ""
             }
            },
            "type": "scatter"
           }
          ],
          "scatter3d": [
           {
            "line": {
             "colorbar": {
              "outlinewidth": 0,
              "ticks": ""
             }
            },
            "marker": {
             "colorbar": {
              "outlinewidth": 0,
              "ticks": ""
             }
            },
            "type": "scatter3d"
           }
          ],
          "scattercarpet": [
           {
            "marker": {
             "colorbar": {
              "outlinewidth": 0,
              "ticks": ""
             }
            },
            "type": "scattercarpet"
           }
          ],
          "scattergeo": [
           {
            "marker": {
             "colorbar": {
              "outlinewidth": 0,
              "ticks": ""
             }
            },
            "type": "scattergeo"
           }
          ],
          "scattergl": [
           {
            "marker": {
             "colorbar": {
              "outlinewidth": 0,
              "ticks": ""
             }
            },
            "type": "scattergl"
           }
          ],
          "scattermapbox": [
           {
            "marker": {
             "colorbar": {
              "outlinewidth": 0,
              "ticks": ""
             }
            },
            "type": "scattermapbox"
           }
          ],
          "scatterpolar": [
           {
            "marker": {
             "colorbar": {
              "outlinewidth": 0,
              "ticks": ""
             }
            },
            "type": "scatterpolar"
           }
          ],
          "scatterpolargl": [
           {
            "marker": {
             "colorbar": {
              "outlinewidth": 0,
              "ticks": ""
             }
            },
            "type": "scatterpolargl"
           }
          ],
          "scatterternary": [
           {
            "marker": {
             "colorbar": {
              "outlinewidth": 0,
              "ticks": ""
             }
            },
            "type": "scatterternary"
           }
          ],
          "surface": [
           {
            "colorbar": {
             "outlinewidth": 0,
             "ticks": ""
            },
            "colorscale": [
             [
              0,
              "#0d0887"
             ],
             [
              0.1111111111111111,
              "#46039f"
             ],
             [
              0.2222222222222222,
              "#7201a8"
             ],
             [
              0.3333333333333333,
              "#9c179e"
             ],
             [
              0.4444444444444444,
              "#bd3786"
             ],
             [
              0.5555555555555556,
              "#d8576b"
             ],
             [
              0.6666666666666666,
              "#ed7953"
             ],
             [
              0.7777777777777778,
              "#fb9f3a"
             ],
             [
              0.8888888888888888,
              "#fdca26"
             ],
             [
              1,
              "#f0f921"
             ]
            ],
            "type": "surface"
           }
          ],
          "table": [
           {
            "cells": {
             "fill": {
              "color": "#EBF0F8"
             },
             "line": {
              "color": "white"
             }
            },
            "header": {
             "fill": {
              "color": "#C8D4E3"
             },
             "line": {
              "color": "white"
             }
            },
            "type": "table"
           }
          ]
         },
         "layout": {
          "annotationdefaults": {
           "arrowcolor": "#2a3f5f",
           "arrowhead": 0,
           "arrowwidth": 1
          },
          "coloraxis": {
           "colorbar": {
            "outlinewidth": 0,
            "ticks": ""
           }
          },
          "colorscale": {
           "diverging": [
            [
             0,
             "#8e0152"
            ],
            [
             0.1,
             "#c51b7d"
            ],
            [
             0.2,
             "#de77ae"
            ],
            [
             0.3,
             "#f1b6da"
            ],
            [
             0.4,
             "#fde0ef"
            ],
            [
             0.5,
             "#f7f7f7"
            ],
            [
             0.6,
             "#e6f5d0"
            ],
            [
             0.7,
             "#b8e186"
            ],
            [
             0.8,
             "#7fbc41"
            ],
            [
             0.9,
             "#4d9221"
            ],
            [
             1,
             "#276419"
            ]
           ],
           "sequential": [
            [
             0,
             "#0d0887"
            ],
            [
             0.1111111111111111,
             "#46039f"
            ],
            [
             0.2222222222222222,
             "#7201a8"
            ],
            [
             0.3333333333333333,
             "#9c179e"
            ],
            [
             0.4444444444444444,
             "#bd3786"
            ],
            [
             0.5555555555555556,
             "#d8576b"
            ],
            [
             0.6666666666666666,
             "#ed7953"
            ],
            [
             0.7777777777777778,
             "#fb9f3a"
            ],
            [
             0.8888888888888888,
             "#fdca26"
            ],
            [
             1,
             "#f0f921"
            ]
           ],
           "sequentialminus": [
            [
             0,
             "#0d0887"
            ],
            [
             0.1111111111111111,
             "#46039f"
            ],
            [
             0.2222222222222222,
             "#7201a8"
            ],
            [
             0.3333333333333333,
             "#9c179e"
            ],
            [
             0.4444444444444444,
             "#bd3786"
            ],
            [
             0.5555555555555556,
             "#d8576b"
            ],
            [
             0.6666666666666666,
             "#ed7953"
            ],
            [
             0.7777777777777778,
             "#fb9f3a"
            ],
            [
             0.8888888888888888,
             "#fdca26"
            ],
            [
             1,
             "#f0f921"
            ]
           ]
          },
          "colorway": [
           "#636efa",
           "#EF553B",
           "#00cc96",
           "#ab63fa",
           "#FFA15A",
           "#19d3f3",
           "#FF6692",
           "#B6E880",
           "#FF97FF",
           "#FECB52"
          ],
          "font": {
           "color": "#2a3f5f"
          },
          "geo": {
           "bgcolor": "white",
           "lakecolor": "white",
           "landcolor": "#E5ECF6",
           "showlakes": true,
           "showland": true,
           "subunitcolor": "white"
          },
          "hoverlabel": {
           "align": "left"
          },
          "hovermode": "closest",
          "mapbox": {
           "style": "light"
          },
          "paper_bgcolor": "white",
          "plot_bgcolor": "#E5ECF6",
          "polar": {
           "angularaxis": {
            "gridcolor": "white",
            "linecolor": "white",
            "ticks": ""
           },
           "bgcolor": "#E5ECF6",
           "radialaxis": {
            "gridcolor": "white",
            "linecolor": "white",
            "ticks": ""
           }
          },
          "scene": {
           "xaxis": {
            "backgroundcolor": "#E5ECF6",
            "gridcolor": "white",
            "gridwidth": 2,
            "linecolor": "white",
            "showbackground": true,
            "ticks": "",
            "zerolinecolor": "white"
           },
           "yaxis": {
            "backgroundcolor": "#E5ECF6",
            "gridcolor": "white",
            "gridwidth": 2,
            "linecolor": "white",
            "showbackground": true,
            "ticks": "",
            "zerolinecolor": "white"
           },
           "zaxis": {
            "backgroundcolor": "#E5ECF6",
            "gridcolor": "white",
            "gridwidth": 2,
            "linecolor": "white",
            "showbackground": true,
            "ticks": "",
            "zerolinecolor": "white"
           }
          },
          "shapedefaults": {
           "line": {
            "color": "#2a3f5f"
           }
          },
          "ternary": {
           "aaxis": {
            "gridcolor": "white",
            "linecolor": "white",
            "ticks": ""
           },
           "baxis": {
            "gridcolor": "white",
            "linecolor": "white",
            "ticks": ""
           },
           "bgcolor": "#E5ECF6",
           "caxis": {
            "gridcolor": "white",
            "linecolor": "white",
            "ticks": ""
           }
          },
          "title": {
           "x": 0.05
          },
          "xaxis": {
           "automargin": true,
           "gridcolor": "white",
           "linecolor": "white",
           "ticks": "",
           "title": {
            "standoff": 15
           },
           "zerolinecolor": "white",
           "zerolinewidth": 2
          },
          "yaxis": {
           "automargin": true,
           "gridcolor": "white",
           "linecolor": "white",
           "ticks": "",
           "title": {
            "standoff": 15
           },
           "zerolinecolor": "white",
           "zerolinewidth": 2
          }
         }
        },
        "title": {
         "text": "Saudi Arabia Corona Virus Cases - Confirmed, Deaths, Recovered (Line Chart)"
        },
        "xaxis": {
         "tickfont": {
          "size": 14
         }
        },
        "yaxis": {
         "tickfont": {
          "size": 14
         },
         "title": {
          "font": {
           "size": 16
          },
          "text": "Number of Cases"
         }
        }
       }
      },
      "text/html": [
       "<div>\n",
       "        \n",
       "        \n",
       "            <div id=\"c8571260-9bbc-4334-9a84-24583f1def7f\" class=\"plotly-graph-div\" style=\"height:525px; width:100%;\"></div>\n",
       "            <script type=\"text/javascript\">\n",
       "                require([\"plotly\"], function(Plotly) {\n",
       "                    window.PLOTLYENV=window.PLOTLYENV || {};\n",
       "                    \n",
       "                if (document.getElementById(\"c8571260-9bbc-4334-9a84-24583f1def7f\")) {\n",
       "                    Plotly.newPlot(\n",
       "                        'c8571260-9bbc-4334-9a84-24583f1def7f',\n",
       "                        [{\"line\": {\"color\": \"blue\", \"width\": 2}, \"mode\": \"lines+markers\", \"name\": \"Confirmed\", \"type\": \"scatter\", \"x\": [\"03/02/2020\", \"03/03/2020\", \"03/04/2020\", \"03/05/2020\", \"03/06/2020\", \"03/07/2020\", \"03/08/2020\", \"03/09/2020\", \"03/10/2020\", \"03/11/2020\", \"03/12/2020\", \"03/13/2020\", \"03/14/2020\", \"03/15/2020\", \"03/16/2020\", \"03/17/2020\", \"03/18/2020\", \"03/19/2020\", \"03/20/2020\", \"03/21/2020\", \"03/22/2020\", \"03/23/2020\", \"03/24/2020\", \"03/25/2020\", \"03/26/2020\", \"03/27/2020\", \"03/28/2020\", \"03/29/2020\", \"03/30/2020\", \"03/31/2020\", \"04/01/2020\", \"04/02/2020\", \"04/03/2020\", \"04/04/2020\", \"04/05/2020\", \"04/06/2020\", \"04/07/2020\", \"04/08/2020\", \"04/09/2020\", \"04/10/2020\", \"04/11/2020\", \"04/12/2020\", \"04/13/2020\", \"04/14/2020\", \"04/15/2020\", \"04/16/2020\", \"04/17/2020\", \"04/18/2020\", \"04/19/2020\", \"04/20/2020\", \"04/21/2020\", \"04/22/2020\", \"04/23/2020\", \"04/24/2020\", \"04/25/2020\", \"04/26/2020\", \"04/27/2020\", \"04/28/2020\", \"04/29/2020\", \"04/30/2020\", \"05/01/2020\", \"05/02/2020\", \"05/03/2020\", \"05/04/2020\", \"05/05/2020\", \"05/06/2020\", \"05/07/2020\", \"05/08/2020\", \"05/09/2020\", \"05/10/2020\", \"05/11/2020\", \"05/12/2020\", \"05/13/2020\", \"05/14/2020\", \"05/15/2020\", \"05/16/2020\", \"05/17/2020\", \"05/18/2020\", \"05/19/2020\", \"05/20/2020\", \"05/21/2020\", \"05/22/2020\", \"05/23/2020\", \"05/24/2020\", \"05/25/2020\", \"05/26/2020\", \"05/27/2020\", \"05/28/2020\", \"05/29/2020\", \"05/30/2020\", \"05/31/2020\", \"06/01/2020\", \"06/02/2020\", \"06/03/2020\", \"06/04/2020\", \"06/05/2020\", \"06/06/2020\", \"06/07/2020\", \"06/08/2020\", \"06/09/2020\", \"06/10/2020\", \"06/11/2020\", \"06/12/2020\", \"06/13/2020\", \"06/14/2020\", \"06/15/2020\", \"06/16/2020\", \"06/17/2020\", \"06/18/2020\", \"06/19/2020\", \"06/20/2020\", \"06/21/2020\", \"06/22/2020\", \"06/23/2020\", \"06/24/2020\", \"06/25/2020\", \"06/26/2020\", \"06/27/2020\", \"06/28/2020\", \"06/29/2020\", \"06/30/2020\", \"07/01/2020\", \"07/02/2020\", \"07/03/2020\", \"07/04/2020\", \"07/05/2020\", \"07/06/2020\", \"07/07/2020\", \"07/08/2020\", \"07/09/2020\", \"07/10/2020\", \"07/11/2020\", \"07/12/2020\", \"07/13/2020\", \"07/14/2020\", \"07/15/2020\", \"07/16/2020\", \"07/17/2020\", \"07/18/2020\", \"07/19/2020\", \"07/20/2020\"], \"y\": [1.0, 1.0, 1.0, 5.0, 5.0, 5.0, 11.0, 15.0, 20.0, 21.0, 45.0, 86.0, 103.0, 103.0, 118.0, 171.0, 171.0, 274.0, 344.0, 392.0, 511.0, 562.0, 767.0, 900.0, 1012.0, 1104.0, 1203.0, 1299.0, 1453.0, 1563.0, 1720.0, 1885.0, 2039.0, 2179.0, 2402.0, 2605.0, 2795.0, 2932.0, 3287.0, 3651.0, 4033.0, 4462.0, 4934.0, 5369.0, 5862.0, 6380.0, 7142.0, 8274.0, 9362.0, 10484.0, 11631.0, 12772.0, 13930.0, 15102.0, 16299.0, 17522.0, 18811.0, 20077.0, 21402.0, 22753.0, 24097.0, 25459.0, 27011.0, 28656.0, 30251.0, 31938.0, 33731.0, 35432.0, 37136.0, 39048.0, 41014.0, 42925.0, 44830.0, 46869.0, 49176.0, 52016.0, 54752.0, 57345.0, 59854.0, 62545.0, 65077.0, 67719.0, 70161.0, 72560.0, 74795.0, 76726.0, 78541.0, 80185.0, 81766.0, 83384.0, 85261.0, 87142.0, 89011.0, 91182.0, 93157.0, 95748.0, 98869.0, 101914.0, 105283.0, 108571.0, 112288.0, 116021.0, 119942.0, 123308.0, 127541.0, 132048.0, 136315.0, 141234.0, 145991.0, 150292.0, 154233.0, 157612.0, 161005.0, 164144.0, 167267.0, 170639.0, 174577.0, 178504.0, 182493.0, 186436.0, 190823.0, 194225.0, 197608.0, 201801.0, 205929.0, 209509.0, 213716.0, 217108.0, 220144.0, 223327.0, 226486.0, 229480.0, 232259.0, 235111.0, 237803.0, 240474.0, 243238.0, 245851.0, 248416.0, 250920.0, 253349.0]}, {\"line\": {\"color\": \"Red\", \"width\": 2}, \"mode\": \"lines+markers\", \"name\": \"Deaths\", \"type\": \"scatter\", \"x\": [\"03/02/2020\", \"03/03/2020\", \"03/04/2020\", \"03/05/2020\", \"03/06/2020\", \"03/07/2020\", \"03/08/2020\", \"03/09/2020\", \"03/10/2020\", \"03/11/2020\", \"03/12/2020\", \"03/13/2020\", \"03/14/2020\", \"03/15/2020\", \"03/16/2020\", \"03/17/2020\", \"03/18/2020\", \"03/19/2020\", \"03/20/2020\", \"03/21/2020\", \"03/22/2020\", \"03/23/2020\", \"03/24/2020\", \"03/25/2020\", \"03/26/2020\", \"03/27/2020\", \"03/28/2020\", \"03/29/2020\", \"03/30/2020\", \"03/31/2020\", \"04/01/2020\", \"04/02/2020\", \"04/03/2020\", \"04/04/2020\", \"04/05/2020\", \"04/06/2020\", \"04/07/2020\", \"04/08/2020\", \"04/09/2020\", \"04/10/2020\", \"04/11/2020\", \"04/12/2020\", \"04/13/2020\", \"04/14/2020\", \"04/15/2020\", \"04/16/2020\", \"04/17/2020\", \"04/18/2020\", \"04/19/2020\", \"04/20/2020\", \"04/21/2020\", \"04/22/2020\", \"04/23/2020\", \"04/24/2020\", \"04/25/2020\", \"04/26/2020\", \"04/27/2020\", \"04/28/2020\", \"04/29/2020\", \"04/30/2020\", \"05/01/2020\", \"05/02/2020\", \"05/03/2020\", \"05/04/2020\", \"05/05/2020\", \"05/06/2020\", \"05/07/2020\", \"05/08/2020\", \"05/09/2020\", \"05/10/2020\", \"05/11/2020\", \"05/12/2020\", \"05/13/2020\", \"05/14/2020\", \"05/15/2020\", \"05/16/2020\", \"05/17/2020\", \"05/18/2020\", \"05/19/2020\", \"05/20/2020\", \"05/21/2020\", \"05/22/2020\", \"05/23/2020\", \"05/24/2020\", \"05/25/2020\", \"05/26/2020\", \"05/27/2020\", \"05/28/2020\", \"05/29/2020\", \"05/30/2020\", \"05/31/2020\", \"06/01/2020\", \"06/02/2020\", \"06/03/2020\", \"06/04/2020\", \"06/05/2020\", \"06/06/2020\", \"06/07/2020\", \"06/08/2020\", \"06/09/2020\", \"06/10/2020\", \"06/11/2020\", \"06/12/2020\", \"06/13/2020\", \"06/14/2020\", \"06/15/2020\", \"06/16/2020\", \"06/17/2020\", \"06/18/2020\", \"06/19/2020\", \"06/20/2020\", \"06/21/2020\", \"06/22/2020\", \"06/23/2020\", \"06/24/2020\", \"06/25/2020\", \"06/26/2020\", \"06/27/2020\", \"06/28/2020\", \"06/29/2020\", \"06/30/2020\", \"07/01/2020\", \"07/02/2020\", \"07/03/2020\", \"07/04/2020\", \"07/05/2020\", \"07/06/2020\", \"07/07/2020\", \"07/08/2020\", \"07/09/2020\", \"07/10/2020\", \"07/11/2020\", \"07/12/2020\", \"07/13/2020\", \"07/14/2020\", \"07/15/2020\", \"07/16/2020\", \"07/17/2020\", \"07/18/2020\", \"07/19/2020\", \"07/20/2020\"], \"y\": [0.0, 0.0, 0.0, 0.0, 0.0, 0.0, 0.0, 0.0, 0.0, 0.0, 0.0, 0.0, 0.0, 0.0, 0.0, 0.0, 0.0, 0.0, 0.0, 0.0, 0.0, 0.0, 1.0, 2.0, 3.0, 3.0, 4.0, 8.0, 8.0, 10.0, 16.0, 21.0, 25.0, 29.0, 34.0, 38.0, 41.0, 41.0, 44.0, 47.0, 52.0, 59.0, 65.0, 73.0, 79.0, 83.0, 87.0, 92.0, 97.0, 103.0, 109.0, 114.0, 121.0, 127.0, 136.0, 139.0, 144.0, 152.0, 157.0, 162.0, 169.0, 176.0, 184.0, 191.0, 200.0, 209.0, 219.0, 229.0, 239.0, 246.0, 255.0, 264.0, 273.0, 283.0, 292.0, 302.0, 312.0, 320.0, 329.0, 339.0, 351.0, 364.0, 379.0, 390.0, 399.0, 411.0, 425.0, 441.0, 458.0, 480.0, 503.0, 525.0, 549.0, 579.0, 611.0, 642.0, 676.0, 712.0, 746.0, 783.0, 819.0, 857.0, 893.0, 932.0, 972.0, 1011.0, 1052.0, 1091.0, 1139.0, 1184.0, 1230.0, 1267.0, 1307.0, 1346.0, 1387.0, 1428.0, 1474.0, 1511.0, 1551.0, 1599.0, 1649.0, 1698.0, 1752.0, 1802.0, 1858.0, 1916.0, 1968.0, 2017.0, 2059.0, 2100.0, 2151.0, 2181.0, 2223.0, 2243.0, 2283.0, 2325.0, 2370.0, 2407.0, 2447.0, 2486.0, 2523.0]}, {\"line\": {\"color\": \"Green\", \"width\": 2}, \"mode\": \"lines+markers\", \"name\": \"Recovered\", \"type\": \"scatter\", \"x\": [\"03/02/2020\", \"03/03/2020\", \"03/04/2020\", \"03/05/2020\", \"03/06/2020\", \"03/07/2020\", \"03/08/2020\", \"03/09/2020\", \"03/10/2020\", \"03/11/2020\", \"03/12/2020\", \"03/13/2020\", \"03/14/2020\", \"03/15/2020\", \"03/16/2020\", \"03/17/2020\", \"03/18/2020\", \"03/19/2020\", \"03/20/2020\", \"03/21/2020\", \"03/22/2020\", \"03/23/2020\", \"03/24/2020\", \"03/25/2020\", \"03/26/2020\", \"03/27/2020\", \"03/28/2020\", \"03/29/2020\", \"03/30/2020\", \"03/31/2020\", \"04/01/2020\", \"04/02/2020\", \"04/03/2020\", \"04/04/2020\", \"04/05/2020\", \"04/06/2020\", \"04/07/2020\", \"04/08/2020\", \"04/09/2020\", \"04/10/2020\", \"04/11/2020\", \"04/12/2020\", \"04/13/2020\", \"04/14/2020\", \"04/15/2020\", \"04/16/2020\", \"04/17/2020\", \"04/18/2020\", \"04/19/2020\", \"04/20/2020\", \"04/21/2020\", \"04/22/2020\", \"04/23/2020\", \"04/24/2020\", \"04/25/2020\", \"04/26/2020\", \"04/27/2020\", \"04/28/2020\", \"04/29/2020\", \"04/30/2020\", \"05/01/2020\", \"05/02/2020\", \"05/03/2020\", \"05/04/2020\", \"05/05/2020\", \"05/06/2020\", \"05/07/2020\", \"05/08/2020\", \"05/09/2020\", \"05/10/2020\", \"05/11/2020\", \"05/12/2020\", \"05/13/2020\", \"05/14/2020\", \"05/15/2020\", \"05/16/2020\", \"05/17/2020\", \"05/18/2020\", \"05/19/2020\", \"05/20/2020\", \"05/21/2020\", \"05/22/2020\", \"05/23/2020\", \"05/24/2020\", \"05/25/2020\", \"05/26/2020\", \"05/27/2020\", \"05/28/2020\", \"05/29/2020\", \"05/30/2020\", \"05/31/2020\", \"06/01/2020\", \"06/02/2020\", \"06/03/2020\", \"06/04/2020\", \"06/05/2020\", \"06/06/2020\", \"06/07/2020\", \"06/08/2020\", \"06/09/2020\", \"06/10/2020\", \"06/11/2020\", \"06/12/2020\", \"06/13/2020\", \"06/14/2020\", \"06/15/2020\", \"06/16/2020\", \"06/17/2020\", \"06/18/2020\", \"06/19/2020\", \"06/20/2020\", \"06/21/2020\", \"06/22/2020\", \"06/23/2020\", \"06/24/2020\", \"06/25/2020\", \"06/26/2020\", \"06/27/2020\", \"06/28/2020\", \"06/29/2020\", \"06/30/2020\", \"07/01/2020\", \"07/02/2020\", \"07/03/2020\", \"07/04/2020\", \"07/05/2020\", \"07/06/2020\", \"07/07/2020\", \"07/08/2020\", \"07/09/2020\", \"07/10/2020\", \"07/11/2020\", \"07/12/2020\", \"07/13/2020\", \"07/14/2020\", \"07/15/2020\", \"07/16/2020\", \"07/17/2020\", \"07/18/2020\", \"07/19/2020\", \"07/20/2020\"], \"y\": [0.0, 0.0, 0.0, 0.0, 0.0, 0.0, 0.0, 0.0, 1.0, 1.0, 1.0, 1.0, 1.0, 1.0, 2.0, 6.0, 6.0, 6.0, 8.0, 16.0, 17.0, 19.0, 28.0, 29.0, 33.0, 35.0, 37.0, 66.0, 115.0, 165.0, 264.0, 328.0, 351.0, 420.0, 488.0, 551.0, 615.0, 631.0, 666.0, 685.0, 720.0, 761.0, 805.0, 889.0, 931.0, 990.0, 1049.0, 1329.0, 1398.0, 1490.0, 1640.0, 1812.0, 1925.0, 2049.0, 2215.0, 2357.0, 2531.0, 2784.0, 2953.0, 3163.0, 3555.0, 3765.0, 4134.0, 4476.0, 5431.0, 6783.0, 7798.0, 9120.0, 10144.0, 11457.0, 12737.0, 15257.0, 17622.0, 19051.0, 21869.0, 23666.0, 25722.0, 28748.0, 31634.0, 33478.0, 36040.0, 39003.0, 41236.0, 43520.0, 45668.0, 48450.0, 51022.0, 54553.0, 57013.0, 58883.0, 62442.0, 64306.0, 65790.0, 68159.0, 68965.0, 70616.0, 71791.0, 72817.0, 74524.0, 76339.0, 77954.0, 80019.0, 81029.0, 82548.0, 84720.0, 87890.0, 89540.0, 91662.0, 93915.0, 95764.0, 98917.0, 101130.0, 105175.0, 109885.0, 112797.0, 117882.0, 120471.0, 122128.0, 124755.0, 127118.0, 130766.0, 132760.0, 137669.0, 140614.0, 143256.0, 145236.0, 149634.0, 154839.0, 158050.0, 161096.0, 163026.0, 165396.0, 167138.0, 169842.0, 177560.0, 183048.0, 187622.0, 191161.0, 194218.0, 197735.0, 203259.0]}],\n",
       "                        {\"legend\": {\"bgcolor\": \"rgba(255, 255, 255, 0)\", \"bordercolor\": \"rgba(255, 255, 255, 0)\", \"x\": 0, \"y\": 1.0}, \"template\": {\"data\": {\"bar\": [{\"error_x\": {\"color\": \"#2a3f5f\"}, \"error_y\": {\"color\": \"#2a3f5f\"}, \"marker\": {\"line\": {\"color\": \"#E5ECF6\", \"width\": 0.5}}, \"type\": \"bar\"}], \"barpolar\": [{\"marker\": {\"line\": {\"color\": \"#E5ECF6\", \"width\": 0.5}}, \"type\": \"barpolar\"}], \"carpet\": [{\"aaxis\": {\"endlinecolor\": \"#2a3f5f\", \"gridcolor\": \"white\", \"linecolor\": \"white\", \"minorgridcolor\": \"white\", \"startlinecolor\": \"#2a3f5f\"}, \"baxis\": {\"endlinecolor\": \"#2a3f5f\", \"gridcolor\": \"white\", \"linecolor\": \"white\", \"minorgridcolor\": \"white\", \"startlinecolor\": \"#2a3f5f\"}, \"type\": \"carpet\"}], \"choropleth\": [{\"colorbar\": {\"outlinewidth\": 0, \"ticks\": \"\"}, \"type\": \"choropleth\"}], \"contour\": [{\"colorbar\": {\"outlinewidth\": 0, \"ticks\": \"\"}, \"colorscale\": [[0.0, \"#0d0887\"], [0.1111111111111111, \"#46039f\"], [0.2222222222222222, \"#7201a8\"], [0.3333333333333333, \"#9c179e\"], [0.4444444444444444, \"#bd3786\"], [0.5555555555555556, \"#d8576b\"], [0.6666666666666666, \"#ed7953\"], [0.7777777777777778, \"#fb9f3a\"], [0.8888888888888888, \"#fdca26\"], [1.0, \"#f0f921\"]], \"type\": \"contour\"}], \"contourcarpet\": [{\"colorbar\": {\"outlinewidth\": 0, \"ticks\": \"\"}, \"type\": \"contourcarpet\"}], \"heatmap\": [{\"colorbar\": {\"outlinewidth\": 0, \"ticks\": \"\"}, \"colorscale\": [[0.0, \"#0d0887\"], [0.1111111111111111, \"#46039f\"], [0.2222222222222222, \"#7201a8\"], [0.3333333333333333, \"#9c179e\"], [0.4444444444444444, \"#bd3786\"], [0.5555555555555556, \"#d8576b\"], [0.6666666666666666, \"#ed7953\"], [0.7777777777777778, \"#fb9f3a\"], [0.8888888888888888, \"#fdca26\"], [1.0, \"#f0f921\"]], \"type\": \"heatmap\"}], \"heatmapgl\": [{\"colorbar\": {\"outlinewidth\": 0, \"ticks\": \"\"}, \"colorscale\": [[0.0, \"#0d0887\"], [0.1111111111111111, \"#46039f\"], [0.2222222222222222, \"#7201a8\"], [0.3333333333333333, \"#9c179e\"], [0.4444444444444444, \"#bd3786\"], [0.5555555555555556, \"#d8576b\"], [0.6666666666666666, \"#ed7953\"], [0.7777777777777778, \"#fb9f3a\"], [0.8888888888888888, \"#fdca26\"], [1.0, \"#f0f921\"]], \"type\": \"heatmapgl\"}], \"histogram\": [{\"marker\": {\"colorbar\": {\"outlinewidth\": 0, \"ticks\": \"\"}}, \"type\": \"histogram\"}], \"histogram2d\": [{\"colorbar\": {\"outlinewidth\": 0, \"ticks\": \"\"}, \"colorscale\": [[0.0, \"#0d0887\"], [0.1111111111111111, \"#46039f\"], [0.2222222222222222, \"#7201a8\"], [0.3333333333333333, \"#9c179e\"], [0.4444444444444444, \"#bd3786\"], [0.5555555555555556, \"#d8576b\"], [0.6666666666666666, \"#ed7953\"], [0.7777777777777778, \"#fb9f3a\"], [0.8888888888888888, \"#fdca26\"], [1.0, \"#f0f921\"]], \"type\": \"histogram2d\"}], \"histogram2dcontour\": [{\"colorbar\": {\"outlinewidth\": 0, \"ticks\": \"\"}, \"colorscale\": [[0.0, \"#0d0887\"], [0.1111111111111111, \"#46039f\"], [0.2222222222222222, \"#7201a8\"], [0.3333333333333333, \"#9c179e\"], [0.4444444444444444, \"#bd3786\"], [0.5555555555555556, \"#d8576b\"], [0.6666666666666666, \"#ed7953\"], [0.7777777777777778, \"#fb9f3a\"], [0.8888888888888888, \"#fdca26\"], [1.0, \"#f0f921\"]], \"type\": \"histogram2dcontour\"}], \"mesh3d\": [{\"colorbar\": {\"outlinewidth\": 0, \"ticks\": \"\"}, \"type\": \"mesh3d\"}], \"parcoords\": [{\"line\": {\"colorbar\": {\"outlinewidth\": 0, \"ticks\": \"\"}}, \"type\": \"parcoords\"}], \"pie\": [{\"automargin\": true, \"type\": \"pie\"}], \"scatter\": [{\"marker\": {\"colorbar\": {\"outlinewidth\": 0, \"ticks\": \"\"}}, \"type\": \"scatter\"}], \"scatter3d\": [{\"line\": {\"colorbar\": {\"outlinewidth\": 0, \"ticks\": \"\"}}, \"marker\": {\"colorbar\": {\"outlinewidth\": 0, \"ticks\": \"\"}}, \"type\": \"scatter3d\"}], \"scattercarpet\": [{\"marker\": {\"colorbar\": {\"outlinewidth\": 0, \"ticks\": \"\"}}, \"type\": \"scattercarpet\"}], \"scattergeo\": [{\"marker\": {\"colorbar\": {\"outlinewidth\": 0, \"ticks\": \"\"}}, \"type\": \"scattergeo\"}], \"scattergl\": [{\"marker\": {\"colorbar\": {\"outlinewidth\": 0, \"ticks\": \"\"}}, \"type\": \"scattergl\"}], \"scattermapbox\": [{\"marker\": {\"colorbar\": {\"outlinewidth\": 0, \"ticks\": \"\"}}, \"type\": \"scattermapbox\"}], \"scatterpolar\": [{\"marker\": {\"colorbar\": {\"outlinewidth\": 0, \"ticks\": \"\"}}, \"type\": \"scatterpolar\"}], \"scatterpolargl\": [{\"marker\": {\"colorbar\": {\"outlinewidth\": 0, \"ticks\": \"\"}}, \"type\": \"scatterpolargl\"}], \"scatterternary\": [{\"marker\": {\"colorbar\": {\"outlinewidth\": 0, \"ticks\": \"\"}}, \"type\": \"scatterternary\"}], \"surface\": [{\"colorbar\": {\"outlinewidth\": 0, \"ticks\": \"\"}, \"colorscale\": [[0.0, \"#0d0887\"], [0.1111111111111111, \"#46039f\"], [0.2222222222222222, \"#7201a8\"], [0.3333333333333333, \"#9c179e\"], [0.4444444444444444, \"#bd3786\"], [0.5555555555555556, \"#d8576b\"], [0.6666666666666666, \"#ed7953\"], [0.7777777777777778, \"#fb9f3a\"], [0.8888888888888888, \"#fdca26\"], [1.0, \"#f0f921\"]], \"type\": \"surface\"}], \"table\": [{\"cells\": {\"fill\": {\"color\": \"#EBF0F8\"}, \"line\": {\"color\": \"white\"}}, \"header\": {\"fill\": {\"color\": \"#C8D4E3\"}, \"line\": {\"color\": \"white\"}}, \"type\": \"table\"}]}, \"layout\": {\"annotationdefaults\": {\"arrowcolor\": \"#2a3f5f\", \"arrowhead\": 0, \"arrowwidth\": 1}, \"coloraxis\": {\"colorbar\": {\"outlinewidth\": 0, \"ticks\": \"\"}}, \"colorscale\": {\"diverging\": [[0, \"#8e0152\"], [0.1, \"#c51b7d\"], [0.2, \"#de77ae\"], [0.3, \"#f1b6da\"], [0.4, \"#fde0ef\"], [0.5, \"#f7f7f7\"], [0.6, \"#e6f5d0\"], [0.7, \"#b8e186\"], [0.8, \"#7fbc41\"], [0.9, \"#4d9221\"], [1, \"#276419\"]], \"sequential\": [[0.0, \"#0d0887\"], [0.1111111111111111, \"#46039f\"], [0.2222222222222222, \"#7201a8\"], [0.3333333333333333, \"#9c179e\"], [0.4444444444444444, \"#bd3786\"], [0.5555555555555556, \"#d8576b\"], [0.6666666666666666, \"#ed7953\"], [0.7777777777777778, \"#fb9f3a\"], [0.8888888888888888, \"#fdca26\"], [1.0, \"#f0f921\"]], \"sequentialminus\": [[0.0, \"#0d0887\"], [0.1111111111111111, \"#46039f\"], [0.2222222222222222, \"#7201a8\"], [0.3333333333333333, \"#9c179e\"], [0.4444444444444444, \"#bd3786\"], [0.5555555555555556, \"#d8576b\"], [0.6666666666666666, \"#ed7953\"], [0.7777777777777778, \"#fb9f3a\"], [0.8888888888888888, \"#fdca26\"], [1.0, \"#f0f921\"]]}, \"colorway\": [\"#636efa\", \"#EF553B\", \"#00cc96\", \"#ab63fa\", \"#FFA15A\", \"#19d3f3\", \"#FF6692\", \"#B6E880\", \"#FF97FF\", \"#FECB52\"], \"font\": {\"color\": \"#2a3f5f\"}, \"geo\": {\"bgcolor\": \"white\", \"lakecolor\": \"white\", \"landcolor\": \"#E5ECF6\", \"showlakes\": true, \"showland\": true, \"subunitcolor\": \"white\"}, \"hoverlabel\": {\"align\": \"left\"}, \"hovermode\": \"closest\", \"mapbox\": {\"style\": \"light\"}, \"paper_bgcolor\": \"white\", \"plot_bgcolor\": \"#E5ECF6\", \"polar\": {\"angularaxis\": {\"gridcolor\": \"white\", \"linecolor\": \"white\", \"ticks\": \"\"}, \"bgcolor\": \"#E5ECF6\", \"radialaxis\": {\"gridcolor\": \"white\", \"linecolor\": \"white\", \"ticks\": \"\"}}, \"scene\": {\"xaxis\": {\"backgroundcolor\": \"#E5ECF6\", \"gridcolor\": \"white\", \"gridwidth\": 2, \"linecolor\": \"white\", \"showbackground\": true, \"ticks\": \"\", \"zerolinecolor\": \"white\"}, \"yaxis\": {\"backgroundcolor\": \"#E5ECF6\", \"gridcolor\": \"white\", \"gridwidth\": 2, \"linecolor\": \"white\", \"showbackground\": true, \"ticks\": \"\", \"zerolinecolor\": \"white\"}, \"zaxis\": {\"backgroundcolor\": \"#E5ECF6\", \"gridcolor\": \"white\", \"gridwidth\": 2, \"linecolor\": \"white\", \"showbackground\": true, \"ticks\": \"\", \"zerolinecolor\": \"white\"}}, \"shapedefaults\": {\"line\": {\"color\": \"#2a3f5f\"}}, \"ternary\": {\"aaxis\": {\"gridcolor\": \"white\", \"linecolor\": \"white\", \"ticks\": \"\"}, \"baxis\": {\"gridcolor\": \"white\", \"linecolor\": \"white\", \"ticks\": \"\"}, \"bgcolor\": \"#E5ECF6\", \"caxis\": {\"gridcolor\": \"white\", \"linecolor\": \"white\", \"ticks\": \"\"}}, \"title\": {\"x\": 0.05}, \"xaxis\": {\"automargin\": true, \"gridcolor\": \"white\", \"linecolor\": \"white\", \"ticks\": \"\", \"title\": {\"standoff\": 15}, \"zerolinecolor\": \"white\", \"zerolinewidth\": 2}, \"yaxis\": {\"automargin\": true, \"gridcolor\": \"white\", \"linecolor\": \"white\", \"ticks\": \"\", \"title\": {\"standoff\": 15}, \"zerolinecolor\": \"white\", \"zerolinewidth\": 2}}}, \"title\": {\"text\": \"Saudi Arabia Corona Virus Cases - Confirmed, Deaths, Recovered (Line Chart)\"}, \"xaxis\": {\"tickfont\": {\"size\": 14}}, \"yaxis\": {\"tickfont\": {\"size\": 14}, \"title\": {\"font\": {\"size\": 16}, \"text\": \"Number of Cases\"}}},\n",
       "                        {\"responsive\": true}\n",
       "                    ).then(function(){\n",
       "                            \n",
       "var gd = document.getElementById('c8571260-9bbc-4334-9a84-24583f1def7f');\n",
       "var x = new MutationObserver(function (mutations, observer) {{\n",
       "        var display = window.getComputedStyle(gd).display;\n",
       "        if (!display || display === 'none') {{\n",
       "            console.log([gd, 'removed!']);\n",
       "            Plotly.purge(gd);\n",
       "            observer.disconnect();\n",
       "        }}\n",
       "}});\n",
       "\n",
       "// Listen for the removal of the full notebook cells\n",
       "var notebookContainer = gd.closest('#notebook-container');\n",
       "if (notebookContainer) {{\n",
       "    x.observe(notebookContainer, {childList: true});\n",
       "}}\n",
       "\n",
       "// Listen for the clearing of the current output cell\n",
       "var outputEl = gd.closest('.output');\n",
       "if (outputEl) {{\n",
       "    x.observe(outputEl, {childList: true});\n",
       "}}\n",
       "\n",
       "                        })\n",
       "                };\n",
       "                });\n",
       "            </script>\n",
       "        </div>"
      ]
     },
     "metadata": {},
     "output_type": "display_data"
    }
   ],
   "source": [
    "fig = go.Figure()\n",
    "fig.add_trace(go.Scatter(x=confirmed['Date'], \n",
    "                         y=confirmed['Confirmed'],\n",
    "                         mode='lines+markers',\n",
    "                         name='Confirmed',\n",
    "                         line=dict(color='blue', width=2)\n",
    "                        ))\n",
    "fig.add_trace(go.Scatter(x=deaths['Date'], \n",
    "                         y=deaths['Deaths'],\n",
    "                         mode='lines+markers',\n",
    "                         name='Deaths',\n",
    "                         line=dict(color='Red', width=2)\n",
    "                        ))\n",
    "fig.add_trace(go.Scatter(x=recovered['Date'], \n",
    "                         y=recovered['Recovered'],\n",
    "                         mode='lines+markers',\n",
    "                         name='Recovered',\n",
    "                         line=dict(color='Green', width=2)\n",
    "                        ))\n",
    "fig.update_layout(\n",
    "    title='Saudi Arabia Corona Virus Cases - Confirmed, Deaths, Recovered (Line Chart)',\n",
    "    xaxis_tickfont_size=14,\n",
    "    yaxis=dict(\n",
    "        title='Number of Cases',\n",
    "        titlefont_size=16,\n",
    "        tickfont_size=14,\n",
    "    ),\n",
    "    legend=dict(\n",
    "        x=0,\n",
    "        y=1.0,\n",
    "        bgcolor='rgba(255, 255, 255, 0)',\n",
    "        bordercolor='rgba(255, 255, 255, 0)'\n",
    "    )\n",
    ")\n",
    "fig.show()\n"
   ]
  },
  {
   "cell_type": "code",
   "execution_count": 46,
   "metadata": {},
   "outputs": [
    {
     "data": {
      "text/plain": [
       "array([nan], dtype=object)"
      ]
     },
     "execution_count": 46,
     "metadata": {},
     "output_type": "execute_result"
    }
   ],
   "source": [
    "sau.State.unique()"
   ]
  },
  {
   "cell_type": "code",
   "execution_count": 53,
   "metadata": {},
   "outputs": [
    {
     "name": "stderr",
     "output_type": "stream",
     "text": [
      "INFO:fbprophet:Disabling yearly seasonality. Run prophet with yearly_seasonality=True to override this.\n"
     ]
    },
    {
     "data": {
      "text/html": [
       "<div>\n",
       "<style scoped>\n",
       "    .dataframe tbody tr th:only-of-type {\n",
       "        vertical-align: middle;\n",
       "    }\n",
       "\n",
       "    .dataframe tbody tr th {\n",
       "        vertical-align: top;\n",
       "    }\n",
       "\n",
       "    .dataframe thead th {\n",
       "        text-align: right;\n",
       "    }\n",
       "</style>\n",
       "<table border=\"1\" class=\"dataframe\">\n",
       "  <thead>\n",
       "    <tr style=\"text-align: right;\">\n",
       "      <th></th>\n",
       "      <th>ds</th>\n",
       "    </tr>\n",
       "  </thead>\n",
       "  <tbody>\n",
       "    <tr>\n",
       "      <th>143</th>\n",
       "      <td>2020-07-23</td>\n",
       "    </tr>\n",
       "    <tr>\n",
       "      <th>144</th>\n",
       "      <td>2020-07-24</td>\n",
       "    </tr>\n",
       "    <tr>\n",
       "      <th>145</th>\n",
       "      <td>2020-07-25</td>\n",
       "    </tr>\n",
       "    <tr>\n",
       "      <th>146</th>\n",
       "      <td>2020-07-26</td>\n",
       "    </tr>\n",
       "    <tr>\n",
       "      <th>147</th>\n",
       "      <td>2020-07-27</td>\n",
       "    </tr>\n",
       "  </tbody>\n",
       "</table>\n",
       "</div>"
      ],
      "text/plain": [
       "            ds\n",
       "143 2020-07-23\n",
       "144 2020-07-24\n",
       "145 2020-07-25\n",
       "146 2020-07-26\n",
       "147 2020-07-27"
      ]
     },
     "execution_count": 53,
     "metadata": {},
     "output_type": "execute_result"
    }
   ],
   "source": [
    "## Time forcasting with FBPhophet\n",
    "## Number of confirmed cases\n",
    "## Forecasting Confirmed case\n",
    "\n",
    "\n",
    "confirmed.rename(columns={'Date':'ds', 'Confirmed':'y'}, inplace=True)\n",
    "deaths.rename(columns={'Date':'ds', 'Deaths':'y'}, inplace=True)\n",
    "recovered.rename(columns={'Date':'ds', 'Recovered':'y'}, inplace=True)\n",
    "m = Prophet(interval_width=0.9, daily_seasonality=True)\n",
    "m.fit(confirmed)\n",
    "future = m.make_future_dataframe(periods=7) # 1 week\n",
    "future_confirmed = future.copy() # for non-baseline predictions later on\n",
    "future.tail()\n",
    "\n"
   ]
  },
  {
   "cell_type": "code",
   "execution_count": 54,
   "metadata": {},
   "outputs": [
    {
     "data": {
      "text/html": [
       "<div>\n",
       "<style scoped>\n",
       "    .dataframe tbody tr th:only-of-type {\n",
       "        vertical-align: middle;\n",
       "    }\n",
       "\n",
       "    .dataframe tbody tr th {\n",
       "        vertical-align: top;\n",
       "    }\n",
       "\n",
       "    .dataframe thead th {\n",
       "        text-align: right;\n",
       "    }\n",
       "</style>\n",
       "<table border=\"1\" class=\"dataframe\">\n",
       "  <thead>\n",
       "    <tr style=\"text-align: right;\">\n",
       "      <th></th>\n",
       "      <th>ds</th>\n",
       "      <th>yhat</th>\n",
       "      <th>yhat_lower</th>\n",
       "      <th>yhat_upper</th>\n",
       "    </tr>\n",
       "  </thead>\n",
       "  <tbody>\n",
       "    <tr>\n",
       "      <th>143</th>\n",
       "      <td>2020-07-23</td>\n",
       "      <td>268686.626381</td>\n",
       "      <td>267027.835647</td>\n",
       "      <td>270523.549878</td>\n",
       "    </tr>\n",
       "    <tr>\n",
       "      <th>144</th>\n",
       "      <td>2020-07-24</td>\n",
       "      <td>272124.041685</td>\n",
       "      <td>270223.770323</td>\n",
       "      <td>274140.365610</td>\n",
       "    </tr>\n",
       "    <tr>\n",
       "      <th>145</th>\n",
       "      <td>2020-07-25</td>\n",
       "      <td>275509.074758</td>\n",
       "      <td>273321.678794</td>\n",
       "      <td>277758.554259</td>\n",
       "    </tr>\n",
       "    <tr>\n",
       "      <th>146</th>\n",
       "      <td>2020-07-26</td>\n",
       "      <td>278893.003625</td>\n",
       "      <td>276432.725843</td>\n",
       "      <td>281257.826517</td>\n",
       "    </tr>\n",
       "    <tr>\n",
       "      <th>147</th>\n",
       "      <td>2020-07-27</td>\n",
       "      <td>282383.337979</td>\n",
       "      <td>279355.115639</td>\n",
       "      <td>285243.470176</td>\n",
       "    </tr>\n",
       "  </tbody>\n",
       "</table>\n",
       "</div>"
      ],
      "text/plain": [
       "            ds           yhat     yhat_lower     yhat_upper\n",
       "143 2020-07-23  268686.626381  267027.835647  270523.549878\n",
       "144 2020-07-24  272124.041685  270223.770323  274140.365610\n",
       "145 2020-07-25  275509.074758  273321.678794  277758.554259\n",
       "146 2020-07-26  278893.003625  276432.725843  281257.826517\n",
       "147 2020-07-27  282383.337979  279355.115639  285243.470176"
      ]
     },
     "execution_count": 54,
     "metadata": {},
     "output_type": "execute_result"
    }
   ],
   "source": [
    "forecast = m.predict(future)\n",
    "forecast[['ds', 'yhat', 'yhat_lower', 'yhat_upper']].tail()"
   ]
  },
  {
   "cell_type": "code",
   "execution_count": 55,
   "metadata": {},
   "outputs": [
    {
     "data": {
      "image/png": "[encoded data removed]",
      "text/plain": [
       "<Figure size 720x432 with 1 Axes>"
      ]
     },
     "metadata": {},
     "output_type": "display_data"
    }
   ],
   "source": [
    "confirmed_forecast_plot = m.plot(forecast)"
   ]
  },
  {
   "cell_type": "code",
   "execution_count": 56,
   "metadata": {},
   "outputs": [
    {
     "data": {
      "image/png": "[encoded data removed]",
      "text/plain": [
       "<Figure size 648x648 with 3 Axes>"
      ]
     },
     "metadata": {},
     "output_type": "display_data"
    }
   ],
   "source": [
    "forecast_components = m.plot_components(forecast)"
   ]
  },
  {
   "cell_type": "code",
   "execution_count": 57,
   "metadata": {},
   "outputs": [
    {
     "name": "stderr",
     "output_type": "stream",
     "text": [
      "INFO:fbprophet:Disabling yearly seasonality. Run prophet with yearly_seasonality=True to override this.\n"
     ]
    },
    {
     "data": {
      "text/html": [
       "<div>\n",
       "<style scoped>\n",
       "    .dataframe tbody tr th:only-of-type {\n",
       "        vertical-align: middle;\n",
       "    }\n",
       "\n",
       "    .dataframe tbody tr th {\n",
       "        vertical-align: top;\n",
       "    }\n",
       "\n",
       "    .dataframe thead th {\n",
       "        text-align: right;\n",
       "    }\n",
       "</style>\n",
       "<table border=\"1\" class=\"dataframe\">\n",
       "  <thead>\n",
       "    <tr style=\"text-align: right;\">\n",
       "      <th></th>\n",
       "      <th>ds</th>\n",
       "    </tr>\n",
       "  </thead>\n",
       "  <tbody>\n",
       "    <tr>\n",
       "      <th>143</th>\n",
       "      <td>2020-07-23</td>\n",
       "    </tr>\n",
       "    <tr>\n",
       "      <th>144</th>\n",
       "      <td>2020-07-24</td>\n",
       "    </tr>\n",
       "    <tr>\n",
       "      <th>145</th>\n",
       "      <td>2020-07-25</td>\n",
       "    </tr>\n",
       "    <tr>\n",
       "      <th>146</th>\n",
       "      <td>2020-07-26</td>\n",
       "    </tr>\n",
       "    <tr>\n",
       "      <th>147</th>\n",
       "      <td>2020-07-27</td>\n",
       "    </tr>\n",
       "  </tbody>\n",
       "</table>\n",
       "</div>"
      ],
      "text/plain": [
       "            ds\n",
       "143 2020-07-23\n",
       "144 2020-07-24\n",
       "145 2020-07-25\n",
       "146 2020-07-26\n",
       "147 2020-07-27"
      ]
     },
     "execution_count": 57,
     "metadata": {},
     "output_type": "execute_result"
    }
   ],
   "source": [
    "## Forecasting Death Rate\n",
    "\n",
    "m = Prophet(interval_width=0.9, daily_seasonality=True)\n",
    "m.fit(deaths)\n",
    "future = m.make_future_dataframe(periods=7) # 1 week\n",
    "future_death = future.copy() # for non-baseline predictions later on\n",
    "future.tail()"
   ]
  },
  {
   "cell_type": "code",
   "execution_count": 58,
   "metadata": {},
   "outputs": [
    {
     "data": {
      "text/html": [
       "<div>\n",
       "<style scoped>\n",
       "    .dataframe tbody tr th:only-of-type {\n",
       "        vertical-align: middle;\n",
       "    }\n",
       "\n",
       "    .dataframe tbody tr th {\n",
       "        vertical-align: top;\n",
       "    }\n",
       "\n",
       "    .dataframe thead th {\n",
       "        text-align: right;\n",
       "    }\n",
       "</style>\n",
       "<table border=\"1\" class=\"dataframe\">\n",
       "  <thead>\n",
       "    <tr style=\"text-align: right;\">\n",
       "      <th></th>\n",
       "      <th>ds</th>\n",
       "      <th>yhat</th>\n",
       "      <th>yhat_lower</th>\n",
       "      <th>yhat_upper</th>\n",
       "    </tr>\n",
       "  </thead>\n",
       "  <tbody>\n",
       "    <tr>\n",
       "      <th>143</th>\n",
       "      <td>2020-07-23</td>\n",
       "      <td>2692.391252</td>\n",
       "      <td>2675.036618</td>\n",
       "      <td>2709.330147</td>\n",
       "    </tr>\n",
       "    <tr>\n",
       "      <th>144</th>\n",
       "      <td>2020-07-24</td>\n",
       "      <td>2737.251595</td>\n",
       "      <td>2718.079397</td>\n",
       "      <td>2755.825585</td>\n",
       "    </tr>\n",
       "    <tr>\n",
       "      <th>145</th>\n",
       "      <td>2020-07-25</td>\n",
       "      <td>2781.985335</td>\n",
       "      <td>2761.063450</td>\n",
       "      <td>2801.138528</td>\n",
       "    </tr>\n",
       "    <tr>\n",
       "      <th>146</th>\n",
       "      <td>2020-07-26</td>\n",
       "      <td>2826.427450</td>\n",
       "      <td>2804.940008</td>\n",
       "      <td>2845.828519</td>\n",
       "    </tr>\n",
       "    <tr>\n",
       "      <th>147</th>\n",
       "      <td>2020-07-27</td>\n",
       "      <td>2869.213859</td>\n",
       "      <td>2843.430431</td>\n",
       "      <td>2892.383059</td>\n",
       "    </tr>\n",
       "  </tbody>\n",
       "</table>\n",
       "</div>"
      ],
      "text/plain": [
       "            ds         yhat   yhat_lower   yhat_upper\n",
       "143 2020-07-23  2692.391252  2675.036618  2709.330147\n",
       "144 2020-07-24  2737.251595  2718.079397  2755.825585\n",
       "145 2020-07-25  2781.985335  2761.063450  2801.138528\n",
       "146 2020-07-26  2826.427450  2804.940008  2845.828519\n",
       "147 2020-07-27  2869.213859  2843.430431  2892.383059"
      ]
     },
     "execution_count": 58,
     "metadata": {},
     "output_type": "execute_result"
    }
   ],
   "source": [
    "forecast = m.predict(future)\n",
    "forecast[['ds', 'yhat', 'yhat_lower', 'yhat_upper']].tail()\n"
   ]
  },
  {
   "cell_type": "code",
   "execution_count": 59,
   "metadata": {},
   "outputs": [
    {
     "data": {
      "image/png": "[encoded data removed]",
      "text/plain": [
       "<Figure size 720x432 with 1 Axes>"
      ]
     },
     "metadata": {},
     "output_type": "display_data"
    }
   ],
   "source": [
    "deaths_forecast_plot = m.plot(forecast)"
   ]
  },
  {
   "cell_type": "code",
   "execution_count": 60,
   "metadata": {},
   "outputs": [
    {
     "data": {
      "image/png": "[encoded data removed]",
      "text/plain": [
       "<Figure size 648x648 with 3 Axes>"
      ]
     },
     "metadata": {},
     "output_type": "display_data"
    }
   ],
   "source": [
    "forecast_components = m.plot_components(forecast)"
   ]
  },
  {
   "cell_type": "code",
   "execution_count": 65,
   "metadata": {},
   "outputs": [
    {
     "name": "stderr",
     "output_type": "stream",
     "text": [
      "INFO:fbprophet:Disabling yearly seasonality. Run prophet with yearly_seasonality=True to override this.\n"
     ]
    },
    {
     "data": {
      "text/html": [
       "<div>\n",
       "<style scoped>\n",
       "    .dataframe tbody tr th:only-of-type {\n",
       "        vertical-align: middle;\n",
       "    }\n",
       "\n",
       "    .dataframe tbody tr th {\n",
       "        vertical-align: top;\n",
       "    }\n",
       "\n",
       "    .dataframe thead th {\n",
       "        text-align: right;\n",
       "    }\n",
       "</style>\n",
       "<table border=\"1\" class=\"dataframe\">\n",
       "  <thead>\n",
       "    <tr style=\"text-align: right;\">\n",
       "      <th></th>\n",
       "      <th>ds</th>\n",
       "    </tr>\n",
       "  </thead>\n",
       "  <tbody>\n",
       "    <tr>\n",
       "      <th>143</th>\n",
       "      <td>2020-07-23</td>\n",
       "    </tr>\n",
       "    <tr>\n",
       "      <th>144</th>\n",
       "      <td>2020-07-24</td>\n",
       "    </tr>\n",
       "    <tr>\n",
       "      <th>145</th>\n",
       "      <td>2020-07-25</td>\n",
       "    </tr>\n",
       "    <tr>\n",
       "      <th>146</th>\n",
       "      <td>2020-07-26</td>\n",
       "    </tr>\n",
       "    <tr>\n",
       "      <th>147</th>\n",
       "      <td>2020-07-27</td>\n",
       "    </tr>\n",
       "  </tbody>\n",
       "</table>\n",
       "</div>"
      ],
      "text/plain": [
       "            ds\n",
       "143 2020-07-23\n",
       "144 2020-07-24\n",
       "145 2020-07-25\n",
       "146 2020-07-26\n",
       "147 2020-07-27"
      ]
     },
     "execution_count": 65,
     "metadata": {},
     "output_type": "execute_result"
    }
   ],
   "source": [
    "m = Prophet(interval_width=0.9, daily_seasonality=True)\n",
    "m.fit(recovered)\n",
    "future = m.make_future_dataframe(periods=7) # 1 week\n",
    "future_recovered = future.copy() # for non-baseline predictions later on\n",
    "future.tail()"
   ]
  },
  {
   "cell_type": "code",
   "execution_count": null,
   "metadata": {},
   "outputs": [],
   "source": []
  },
  {
   "cell_type": "code",
   "execution_count": 62,
   "metadata": {},
   "outputs": [
    {
     "data": {
      "text/html": [
       "<div>\n",
       "<style scoped>\n",
       "    .dataframe tbody tr th:only-of-type {\n",
       "        vertical-align: middle;\n",
       "    }\n",
       "\n",
       "    .dataframe tbody tr th {\n",
       "        vertical-align: top;\n",
       "    }\n",
       "\n",
       "    .dataframe thead th {\n",
       "        text-align: right;\n",
       "    }\n",
       "</style>\n",
       "<table border=\"1\" class=\"dataframe\">\n",
       "  <thead>\n",
       "    <tr style=\"text-align: right;\">\n",
       "      <th></th>\n",
       "      <th>ds</th>\n",
       "      <th>yhat</th>\n",
       "      <th>yhat_lower</th>\n",
       "      <th>yhat_upper</th>\n",
       "    </tr>\n",
       "  </thead>\n",
       "  <tbody>\n",
       "    <tr>\n",
       "      <th>143</th>\n",
       "      <td>2020-07-23</td>\n",
       "      <td>208820.982242</td>\n",
       "      <td>206911.856624</td>\n",
       "      <td>210703.100690</td>\n",
       "    </tr>\n",
       "    <tr>\n",
       "      <th>144</th>\n",
       "      <td>2020-07-24</td>\n",
       "      <td>212055.003684</td>\n",
       "      <td>210142.862393</td>\n",
       "      <td>213959.360672</td>\n",
       "    </tr>\n",
       "    <tr>\n",
       "      <th>145</th>\n",
       "      <td>2020-07-25</td>\n",
       "      <td>215120.954306</td>\n",
       "      <td>213142.061572</td>\n",
       "      <td>217245.757011</td>\n",
       "    </tr>\n",
       "    <tr>\n",
       "      <th>146</th>\n",
       "      <td>2020-07-26</td>\n",
       "      <td>218292.809152</td>\n",
       "      <td>216071.434803</td>\n",
       "      <td>220706.087321</td>\n",
       "    </tr>\n",
       "    <tr>\n",
       "      <th>147</th>\n",
       "      <td>2020-07-27</td>\n",
       "      <td>221798.836562</td>\n",
       "      <td>219379.086885</td>\n",
       "      <td>224393.184303</td>\n",
       "    </tr>\n",
       "  </tbody>\n",
       "</table>\n",
       "</div>"
      ],
      "text/plain": [
       "            ds           yhat     yhat_lower     yhat_upper\n",
       "143 2020-07-23  208820.982242  206911.856624  210703.100690\n",
       "144 2020-07-24  212055.003684  210142.862393  213959.360672\n",
       "145 2020-07-25  215120.954306  213142.061572  217245.757011\n",
       "146 2020-07-26  218292.809152  216071.434803  220706.087321\n",
       "147 2020-07-27  221798.836562  219379.086885  224393.184303"
      ]
     },
     "execution_count": 62,
     "metadata": {},
     "output_type": "execute_result"
    }
   ],
   "source": [
    "forecast = m.predict(future)\n",
    "forecast[['ds', 'yhat', 'yhat_lower', 'yhat_upper']].tail()"
   ]
  },
  {
   "cell_type": "code",
   "execution_count": 63,
   "metadata": {},
   "outputs": [
    {
     "data": {
      "image/png": "[encoded data removed]",
      "text/plain": [
       "<Figure size 720x432 with 1 Axes>"
      ]
     },
     "metadata": {},
     "output_type": "display_data"
    }
   ],
   "source": [
    "recovered_forecast_plot = m.plot(forecast)"
   ]
  },
  {
   "cell_type": "code",
   "execution_count": 64,
   "metadata": {},
   "outputs": [
    {
     "data": {
      "image/png": "[encoded data removed]",
      "text/plain": [
       "<Figure size 648x648 with 3 Axes>"
      ]
     },
     "metadata": {},
     "output_type": "display_data"
    }
   ],
   "source": [
    "forecast_components = m.plot_components(forecast)\n"
   ]
  },
  {
   "cell_type": "code",
   "execution_count": null,
   "metadata": {},
   "outputs": [],
   "source": []
  }
 ],
 "metadata": {
  "kernelspec": {
   "display_name": "Python 3",
   "language": "python",
   "name": "python3"
  },
  "language_info": {
   "codemirror_mode": {
    "name": "ipython",
    "version": 3
   },
   "file_extension": ".py",
   "mimetype": "text/x-python",
   "name": "python",
   "nbconvert_exporter": "python",
   "pygments_lexer": "ipython3",
   "version": "3.8.3"
  }
 },
 "nbformat": 4,
 "nbformat_minor": 4
}
